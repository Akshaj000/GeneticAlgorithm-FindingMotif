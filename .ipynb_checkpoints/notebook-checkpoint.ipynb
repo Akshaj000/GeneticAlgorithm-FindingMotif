{
 "cells": [
  {
   "cell_type": "code",
   "execution_count": 1,
   "id": "580b68e7",
   "metadata": {},
   "outputs": [],
   "source": [
    "import random"
   ]
  },
  {
   "cell_type": "code",
   "execution_count": 2,
   "id": "cc4c4ef5",
   "metadata": {},
   "outputs": [],
   "source": [
    "def randomizedmotifsearch(lines):\n",
    "    motifs = []\n",
    "    for n in lines:\n",
    "        for k in range(10):\n",
    "            i = random.randint(0, 365)\n",
    "            lmer=n[i:i+10]\n",
    "            motifs.append(lmer)     \n",
    "    return  motifs"
   ]
  },
  {
   "cell_type": "code",
   "execution_count": 3,
   "id": "309340b9",
   "metadata": {},
   "outputs": [],
   "source": [
    "def FitnessScore(Sn, Pn):\n",
    "    pnl = len(Pn)\n",
    "    max_score = 0\n",
    "    for i in range(len(Sn)-pnl+1):\n",
    "        score = 0\n",
    "        seq = Sn[i:i+pnl]\n",
    "        for j in range(pnl):\n",
    "            if Pn[j] == seq[j]:\n",
    "                score+=1/pnl\n",
    "        if score > max_score:\n",
    "            max_score = score\n",
    "    return(max_score)\n",
    "\n",
    "def TotalFitnessScore(sequences, Pn):\n",
    "    L, Ts = len(sequences), 0\n",
    "    for i in range(L):\n",
    "        Ts += FitnessScore(sequences[i], Pn)\n",
    "    return Ts"
   ]
  },
  {
   "cell_type": "code",
   "execution_count": 4,
   "id": "9b1f3e94",
   "metadata": {},
   "outputs": [],
   "source": [
    "def crossover(sTable):\n",
    "    Table=[]\n",
    "    for n in range(25):\n",
    "        k = random.randint(2, 13) \n",
    "        i = random.randint(1, len(sTable)-1)\n",
    "        j = random.randint(1, len(sTable)-1) \n",
    "        p1 = sTable[i][\"motif\"]\n",
    "        p2 = sTable[j][\"motif\"]\n",
    "\n",
    "        o1=p1[0:k+1]+p2[k+1:10]\n",
    "        o2=p2[0:k+1]+p1[k+1:10]\n",
    "                    \n",
    "        Table.append(o1)\n",
    "        Table.append(o2)   \n",
    "    return  Table  \n",
    "\n",
    "def mutation(p):\n",
    "    randomChar = random.choice(['A', 'C', 'G', 'T'])\n",
    "    seq = list(p)\n",
    "    index = random.randint(3, len(p)-1)\n",
    "    seq[index] = randomChar\n",
    "    return \"\".join(seq)"
   ]
  },
  {
   "cell_type": "code",
   "execution_count": 5,
   "id": "909fd467",
   "metadata": {},
   "outputs": [],
   "source": [
    "def GeneticAlgorithm(parentTable, count):\n",
    "    if(count >= 50):\n",
    "        return parentTable\n",
    "    childTable=[]\n",
    "    tables = crossover(parentTable)\n",
    "    tables = [mutation(i) for i in tables]\n",
    "    tables \n",
    "    for i in tables:\n",
    "        Pi = i\n",
    "        score = TotalFitnessScore(sequences, Pi)    \n",
    "        childTable.append({\"motif\":Pi,\"score\":score})\n",
    "    childTable = sorted(childTable, key=lambda x: x['score'])\n",
    "    childTable[:10] = parentTable[-10:]\n",
    "    childTable = sorted(childTable, key=lambda x: x['score'])\n",
    "    if(childTable[-1]['score'] == parentTable[-1]['score']):\n",
    "        count+=10\n",
    "    print(childTable[-1])\n",
    "    print(\"-------------------------\")\n",
    "    count+=1;\n",
    "    return GeneticAlgorithm(childTable, count)"
   ]
  },
  {
   "cell_type": "markdown",
   "id": "de24baaa",
   "metadata": {},
   "source": [
    "### RUNNING on sequence.txt"
   ]
  },
  {
   "cell_type": "code",
   "execution_count": 6,
   "id": "882a672a",
   "metadata": {},
   "outputs": [],
   "source": [
    "file = open(\"sequences.txt\")\n",
    "sequences = file.readlines()\n",
    "for n,i in enumerate(sequences):\n",
    "    sequences[n] = i.strip().upper()\n",
    "sequences = sequences[:-1]"
   ]
  },
  {
   "cell_type": "code",
   "execution_count": 7,
   "id": "3e76c1ba",
   "metadata": {},
   "outputs": [
    {
     "name": "stdout",
     "output_type": "stream",
     "text": [
      "['CATAGCCAGATAGCTTGCAATGCCGATGACCTAGGTGGTTAGATAGCTGTCAGTGGTATGGGGATACCTGAGTGGAGCAGCCGGCGGCGATATCGCGCTCCCTCCCAGCCACTCAAGGCTTGAGACTCGGACATTCGGACTCCCCGGACCGCGAAGGAATCGGAACGTACGGAGCCAATCTAAGAACTACGCTTAGAATCTAATCCCGAGACCAAACGCGATGGCACTGCTGCGTCCCCTGCATTCTTGCCTAATACGTTGATCACTATTGTGATCATTGTACGCGATCCATAGACAGGTTTGTTGCCCTGTAGAGCCTGGGTGTAACAGACAAACCCCCGTCTAGTTTCCTTGCCCATAACGAAGGGTGATATCTGACCTTTGTCTTAGATATTCGATT', 'TCGTAGGCCGCTGCCCTGCTAATGCCATCCTTCTCCAGCTTGCAATGCCGATGACCTAGGTGGTTAGATAGCTACGGGTATCCAGCATTCTGGTACTATTAGTTCTAAGCTGGTGCACTTTGCCTTAAGTTATCCCCACCGGACACGACACATCCATTCCTGAATAAGGCCCCCCTAATCGGACCCGCAGATTGTAGTAATTGCCTTTGGGCTAGATTCGGGCAATCAAATATGCAGCACAGGGTTGAAGAGGCGCTTACGGCAAACAATTACCTGAAAACTTCCGAACTCCGGGGCTGAGATGCGGGCCACACGTGTGACTTGCCGCTAAAGCATCTGCCCCAACTGAGAATACTCGAGGACGACTAACATCTTGCCCTTTCCACTTAGGCACTAGTCT', 'CTCTTAGCGGTGGTTGCTTATTAGACGCCACTTCCAGTTAGACTCTGAGGCTATCTTGCTCTTGGAACAAGCTCAGGAATGGAATGTGGTAATTCGTAGAGTCTCGCCTATACAAAGATGAATAATCTCTGGATTTTCATCTTAACTGGATAGACAATGACCAGGCCGAATTGATGGGTAAGCCGTTGTGAATGGGGCCTTCCGACGCTTATAGCGATGGCTGTTATAATGTCCTGAATTACGGGTATCAGGATCGCAATTAGCGTTGCATGGGAGCTGATAGGTCGCTGAGAGGACAGAGGGAGAACAGACTGACATGGCCTTCCGCAGGAGAGATATAAGGGCTCACAAAACCTCTCTAGCTTGCAATGCCGATGACCTAGGTGGTTAGATAGCGGGA', 'TGAAGTAGTCGGTAGCATCCGTCGGCGACACTTAGCGGCTTCGCAGACATAAGCTAGCAATGCCGATGACCTAGGTGGTTAGATAGAGTGTCGCGCAGTTTCATCCTACATACTGGGGCCTGGAATCAGGTTGGCCTCCGAACAAATCTAGTTCCACGACGCATAGGGAACTTGGAACCTAAACAACTGGATTGGTATCAATTACCCTGTGCACATAAGGCAATGCGCACTAATGCTGTGCCCAGATGTCGGACCTTTATATTAACATAGACGGTCTGACTGTCGTTCTTGGCGCGGTTGAACCAACGAGTTGCCGCGTAAAGTGAATACAGATGACATCAAAGTGTCCAATTTGAACTTGACCAAGACCCGATTTGCAAACTAATGACACAACGTGTAG', 'CTTAGGCCTGATATACGCCCTGACCCCAGAACGAACATTACAGGAAGAGATCTGATTAGTGTACGACGGGTTTATAGAGCATCATGGAATGGAATGCAACACTATTCCTTTGTCCGAGCTAGCAATGCCGATGACCTAGGTGGTTAGAAAGTAACTTAGGATACGGCAGTTCGTATCCATCTTAACACCGCAGTAAGGGTACGAATGGGGGTACTAAAACGGGCTACTACCTAGGGCCCAGGTAATTGGGTAGCTTACAACTCTGTCAGCAGTTCGACGGGTTCATGAATTGCGCCAGTGGCCCACAGCCCTGGTTTACTTGGACATAGGCGAATCGACAACCACGCGTGTAGATGTCCAACATGTAGTATTGTTGTCCGATTGCCGGAATAGACGATAT']\n",
      "50\n"
     ]
    }
   ],
   "source": [
    "print(sequences[:5])\n",
    "print(len(sequences))"
   ]
  },
  {
   "cell_type": "markdown",
   "id": "9e7af43f",
   "metadata": {},
   "source": [
    "#### USING RANDOMLY SELECTED PARENT MOTIF FROM SEQUENCES"
   ]
  },
  {
   "cell_type": "code",
   "execution_count": 8,
   "id": "c5ab3235",
   "metadata": {},
   "outputs": [
    {
     "name": "stdout",
     "output_type": "stream",
     "text": [
      "{'motif': 'AGGAAGCAAA', 'score': 48.199999999999996}\n",
      "-------------------------\n",
      "{'motif': 'AGGAAGCAAA', 'score': 48.199999999999996}\n",
      "-------------------------\n",
      "{'motif': 'AGGAAGCAAA', 'score': 48.199999999999996}\n",
      "-------------------------\n",
      "{'motif': 'AGGAAGCAAA', 'score': 48.199999999999996}\n",
      "-------------------------\n",
      "{'motif': 'AGGAAGCAAA', 'score': 48.199999999999996}\n",
      "-------------------------\n"
     ]
    }
   ],
   "source": [
    "chars = ['A','C','G','T']\n",
    "scoreTable = []\n",
    "\n",
    "count = 0\n",
    "finalTable = []\n",
    "for i in randomizedmotifsearch(sequences):\n",
    "    Pi = i\n",
    "    score = TotalFitnessScore(sequences, Pi)    \n",
    "    scoreTable.append({\"motif\":Pi,\"score\":score})\n",
    "        \n",
    "scoreTable = sorted(scoreTable, key=lambda x: x['score'])\n",
    "scoreTable = scoreTable[-50:]\n",
    "finalTable.append(GeneticAlgorithm(scoreTable, count)[-1])"
   ]
  },
  {
   "cell_type": "code",
   "execution_count": 9,
   "id": "57cd9c39",
   "metadata": {},
   "outputs": [
    {
     "name": "stdout",
     "output_type": "stream",
     "text": [
      "{'motif': 'AGGAAGCAAA', 'score': 48.199999999999996}\n"
     ]
    }
   ],
   "source": [
    "print(finalTable[-1])"
   ]
  },
  {
   "cell_type": "markdown",
   "id": "692846ba",
   "metadata": {},
   "source": [
    "#### USING RANDOMLY GENERATED PARENTS"
   ]
  },
  {
   "cell_type": "code",
   "execution_count": 10,
   "id": "8de55461",
   "metadata": {},
   "outputs": [
    {
     "name": "stdout",
     "output_type": "stream",
     "text": [
      "{'motif': 'TGGCAAGTAA', 'score': 36.6}\n",
      "-------------------------\n",
      "{'motif': 'GGAAAGTGCA', 'score': 36.6}\n",
      "-------------------------\n",
      "{'motif': 'TCGAAGAGGA', 'score': 41.99999999999996}\n",
      "-------------------------\n",
      "{'motif': 'TCGAAGAGGA', 'score': 41.99999999999996}\n",
      "-------------------------\n",
      "{'motif': 'TCGAAGAGGA', 'score': 41.99999999999996}\n",
      "-------------------------\n",
      "{'motif': 'TCGAAGAGGA', 'score': 41.99999999999996}\n",
      "-------------------------\n"
     ]
    }
   ],
   "source": [
    "chars = ['A','C','G','T']\n",
    "scoreTable = []\n",
    "count = 0\n",
    "finalTable = []\n",
    "for i in range(100):\n",
    "    Pi = \"\".join(random.choices(chars, k=10))\n",
    "    score = TotalFitnessScore(sequences, Pi)    \n",
    "    scoreTable.append({\"motif\":Pi,\"score\":score})\n",
    "        \n",
    "scoreTable = sorted(scoreTable, key=lambda x: x['score'])\n",
    "scoreTable = scoreTable[-50:]\n",
    "finalTable.append(GeneticAlgorithm(scoreTable, count)[-1])"
   ]
  },
  {
   "cell_type": "code",
   "execution_count": 11,
   "id": "aa365963",
   "metadata": {},
   "outputs": [
    {
     "name": "stdout",
     "output_type": "stream",
     "text": [
      "[{'motif': 'TCGAAGAGGA', 'score': 41.99999999999996}]\n"
     ]
    }
   ],
   "source": [
    "print(finalTable)"
   ]
  },
  {
   "cell_type": "markdown",
   "id": "c8e05bed",
   "metadata": {},
   "source": [
    "### RUNNING ON sequences2.txt"
   ]
  },
  {
   "cell_type": "code",
   "execution_count": 12,
   "id": "c8ee2109",
   "metadata": {},
   "outputs": [],
   "source": [
    "file = open(\"sequences2.txt\")\n",
    "sequences = file.readlines()\n",
    "for n,i in enumerate(sequences):\n",
    "    sequences[n] = i.strip().upper()\n",
    "sequences = sequences[:-1]"
   ]
  },
  {
   "cell_type": "code",
   "execution_count": 13,
   "id": "a4924c2a",
   "metadata": {},
   "outputs": [
    {
     "name": "stdout",
     "output_type": "stream",
     "text": [
      "['CGTTACTCCAACGGCAAGAAGCGGAAATAGACGATCCGGGACTTGACTAAAATGCGTATGGTTGTGTAATGGGAGTAATTCGCTACGGTGAGACCAAGCTGACTACCGCAAACCATGGGGCCATGTATGGTCGAAGTGGGAGTCATTGCCGATGTATTTTGCTGGTAGATTCCCGTGAGAGCACCCCGTACCCGAACGGTTGGTCGATCACATCGTGGACCAAGGCGAATCGGTCAATGCGTGTATTGCCAGCTTTAATTGATGAAGCGGAAGAGCCTCCCAAACTGGTGCCATTGTACCTACTAAGTGAGGTGTGGATAGGATGGACGGGTGCCTGTTGAGGGGGGGAAATGTGCTCCGTATCGGCTGTGACGCAGGGATCCCCGTTACCGGCAGCCTCCTGCATGACTAGACTTTGGCTCAAGTCATGAGGTTGGCCGCTTTGCACATACCTTACTCAACTAGAGATCGCATACCACAGAACAAAGATAATATATGAA', 'TGTTGCGTGGTAGGCTGTGTACCTTCGAACTGCGCTGGACGCTGCCGATAAGTTCTTGCTGAGACACCAAAATCAAATGGCCTCCCAACTCGATCGTATCGGGATGAGCTGTATTCAGGCACTGACTCGAAGGCACTACTGAATTAATACCGTTAGCGCGTATGTCGGACCGACATATAGTAAGATAAGGCACTCATACCGATCGCTGGCCATAGTGACATTTAGTCCGTGCCAATTACTTATTAGGGTCCTGAGGGTTAGAGCGCATCCCTCCTAGATTTCTCGGTCTCTATCTAAGTTAACGGGTGCGGAGCTCTATTGGGCTACCTTATAAAAGAAGTTTTCACTTAAGCCCATGTGTGGCCGTAGTCGTGTAGGAGCAAACTCGCATGGGTCATGCGTCAGACTGGGGTGCGCAGTTCCGGGAGTTAGAAAAGAATAACCATCATACATTACTTCGTTGGGATGTCGTTCGTTCGATATCGGGCCATTACCCATTC', 'AGTGTTTCGGTGGTCATTCTTAGCTCGTTGCTGGGTCCGGTCCACGACCATGTCCCATTACTCTAATCGGAATTCCACCGTCATAGCCATTGCATCGGTAACCGTGTAGGAGCAGTGCTGGGGTACTTTGGTGTTTGGGGTTGATGTGTTAGCGATCCAGGCCTAGTTCCAATCCAAGGTTGAAATGTTGCCTCATTTTTTCTGGTTATCCAAGTATGGGCAGTACCAAATCATCAGGCCCAAGTCTGGAAGGAATCAAGTACACTTTTAAGTGCATGAAGGAGAGTGTTTGAGACCGGAGACGCTAAATTGGGGCGCCTCCCTCCTGCGCTCCCGGATGGCTTGAATGCCGTAAAGTCAGTGCCAAAAGTGCTGAGACTCCGTCGCGGTCGGCTCGTAAGCCAATGTAATTTGGATTACTAATAGCCGCTGAGCGTTTGCTAACGATGTAGAGAAATGATTTATCTATTCTATAATTAAAAGGAGTAGTCATCCGGCCC', 'GTGTAGCATATTTCTGTTGGAGACCCATTGTGATAACTCCTTACAGAGTAAATATGACACAACATTGGATCGCCAGCTGGCGGCCTCTCATACTGTCTGACCCATCCGAAGAATGCAATAGCCCCCCAAGAGGCCTTTACATAATCATCTACAGTCACCATTAATCATGATTAAGATTCGAGATTACGTGTTCAAGCTCATGATTCTCCATTAATGTCGACTAACGTACGCCGCTACAGTGTGTCTGTATACGCATGTGAGGTACGAGGTCTCACGTCAAAGCACACTCTAACTCCGACTAGTGGGTTGACAGTGACGCATTGACCCTGTTACTCGCCGAGCGGTGACCCTCAAGACAACAGCAAGAGAAAGCGGAATGCGAGATTGGATGCGTCCGGAGACGCATCCAGTCTAATTATCAGGCTTAGACAGACATTAACATTTAGGCGCGCAGCCGGGAAGGAATAAGGTGGCGACGTAACTTCAGAGCGCCTTCTCGG', 'GGGTTTGACTTAAAACTTCATTCATCCTTGAGGGAAGGTTTCATCTATCGCGAATGGGGGCCAATATTATAAACAACGGGGCAGACATCTTCGGCAATGCACTTATGTGCCACTACCACATACACCAAAAACAAAGATACGGATGGCTAGCGAACTGCGTCCATTAATCGAGATTCATCAGCCGATTGGGCGTCATACACCATCGTTGTTTTGAAGTTGCCTACTCGTTGGACTCGTTCATCGTAAGCTTGCGGATACCACTCCGAACTAGAGATACGTATTGGCCCAAGATCTTAGCGATCTCTGTTTCTGCTACCCCACGTACCCTCGTCGAAGTCACCCATAGCAAGAACGATAGCACCCGGGGCGCCAGTCCCATAATAGATTATCCACACGCTTCCTGAGTCTCGCACAAATCTGGACACTTCCATGGCAATTGCACCATAGACCTCCGGGAACGTCGTTCGCGTTACCCCAATTACGCTTCCAGACATGACATA']\n",
      "9\n"
     ]
    }
   ],
   "source": [
    "print(sequences[:5])\n",
    "print(len(sequences))"
   ]
  },
  {
   "cell_type": "code",
   "execution_count": 14,
   "id": "6489ef86",
   "metadata": {},
   "outputs": [
    {
     "name": "stdout",
     "output_type": "stream",
     "text": [
      "{'motif': 'TTTTGCTGGT', 'score': 7.1000000000000005}\n",
      "-------------------------\n",
      "{'motif': 'TTTTGCTGGT', 'score': 7.1000000000000005}\n",
      "-------------------------\n",
      "{'motif': 'TTTTGCTGGT', 'score': 7.1000000000000005}\n",
      "-------------------------\n",
      "{'motif': 'TTTTGCTGGT', 'score': 7.1000000000000005}\n",
      "-------------------------\n",
      "{'motif': 'TTTTGGTGGT', 'score': 7.1000000000000005}\n",
      "-------------------------\n"
     ]
    }
   ],
   "source": [
    "chars = ['A','C','G','T']\n",
    "scoreTable = []\n",
    "\n",
    "count = 0\n",
    "finalTable = []\n",
    "for i in randomizedmotifsearch(sequences):\n",
    "    Pi = i\n",
    "    score = TotalFitnessScore(sequences, Pi)    \n",
    "    scoreTable.append({\"motif\":Pi,\"score\":score})\n",
    "        \n",
    "scoreTable = sorted(scoreTable, key=lambda x: x['score'])\n",
    "scoreTable = scoreTable[-50:]\n",
    "finalTable.append(GeneticAlgorithm(scoreTable, count)[-1])"
   ]
  },
  {
   "cell_type": "code",
   "execution_count": 15,
   "id": "2be4cd8d",
   "metadata": {},
   "outputs": [
    {
     "name": "stdout",
     "output_type": "stream",
     "text": [
      "[{'motif': 'TTTTGGTGGT', 'score': 7.1000000000000005}]\n"
     ]
    }
   ],
   "source": [
    "print(finalTable)"
   ]
  },
  {
   "cell_type": "code",
   "execution_count": 16,
   "id": "ec46506a",
   "metadata": {},
   "outputs": [
    {
     "name": "stdout",
     "output_type": "stream",
     "text": [
      "Motif is :  TTTTGGTGGT\n"
     ]
    }
   ],
   "source": [
    "finalTable = sorted(finalTable, key=lambda x: x['score'])\n",
    "print(\"Motif is : \",  finalTable[-1]['motif'])"
   ]
  },
  {
   "cell_type": "markdown",
   "id": "a41fff97",
   "metadata": {},
   "source": [
    "### USING RANDOMLY GENERATED PARENTS"
   ]
  },
  {
   "cell_type": "code",
   "execution_count": 20,
   "id": "6735b4e5",
   "metadata": {},
   "outputs": [
    {
     "name": "stdout",
     "output_type": "stream",
     "text": [
      "{'motif': 'AGTTCCAAGG', 'score': 6.8999999999999995}\n",
      "-------------------------\n",
      "{'motif': 'AGTTCCAAGG', 'score': 6.8999999999999995}\n",
      "-------------------------\n",
      "{'motif': 'AGTTCCAAGG', 'score': 6.8999999999999995}\n",
      "-------------------------\n",
      "{'motif': 'AGTTCCAAGG', 'score': 6.8999999999999995}\n",
      "-------------------------\n",
      "{'motif': 'AGTTCCGAGG', 'score': 7.1000000000000005}\n",
      "-------------------------\n",
      "{'motif': 'AGTTCCGAGG', 'score': 7.1000000000000005}\n",
      "-------------------------\n",
      "{'motif': 'AGTTCCGAGG', 'score': 7.1000000000000005}\n",
      "-------------------------\n"
     ]
    }
   ],
   "source": [
    "chars = ['A','C','G','T']\n",
    "scoreTable = []\n",
    "\n",
    "count = 0\n",
    "finalTable = []\n",
    "for i in range(100):\n",
    "    Pi = \"\".join(random.choices(chars, k=10))\n",
    "    score = TotalFitnessScore(sequences, Pi)    \n",
    "    scoreTable.append({\"motif\":Pi,\"score\":score})\n",
    "        \n",
    "scoreTable = sorted(scoreTable, key=lambda x: x['score'])\n",
    "scoreTable = scoreTable[-50:]\n",
    "finalTable.append(GeneticAlgorithm(scoreTable, count)[-1])"
   ]
  }
 ],
 "metadata": {
  "kernelspec": {
   "display_name": "Python 3 (ipykernel)",
   "language": "python",
   "name": "python3"
  },
  "language_info": {
   "codemirror_mode": {
    "name": "ipython",
    "version": 3
   },
   "file_extension": ".py",
   "mimetype": "text/x-python",
   "name": "python",
   "nbconvert_exporter": "python",
   "pygments_lexer": "ipython3",
   "version": "3.10.4"
  }
 },
 "nbformat": 4,
 "nbformat_minor": 5
}
