{
 "cells": [
  {
   "cell_type": "code",
   "execution_count": 577,
   "id": "580b68e7",
   "metadata": {},
   "outputs": [],
   "source": [
    "import random"
   ]
  },
  {
   "cell_type": "code",
   "execution_count": 578,
   "id": "cc4c4ef5",
   "metadata": {},
   "outputs": [],
   "source": [
    "def randomizedmotifsearch(lines):\n",
    "    motifs = []\n",
    "    for n in lines:\n",
    "        for k in range(10):\n",
    "            i = random.randint(0, 365)\n",
    "            lmer=n[i:i+10]\n",
    "            motifs.append(lmer)     \n",
    "    return  motifs"
   ]
  },
  {
   "cell_type": "code",
   "execution_count": 579,
   "id": "309340b9",
   "metadata": {},
   "outputs": [],
   "source": [
    "def FitnessScore(Sn, Pn):\n",
    "    pnl = len(Pn)\n",
    "    max_score = 0\n",
    "    for i in range(len(Sn)-pnl+1):\n",
    "        score = 0\n",
    "        seq = Sn[i:i+pnl]\n",
    "        for j in range(pnl):\n",
    "            if Pn[j] == seq[j]:\n",
    "                score+=1/pnl\n",
    "        if score > max_score:\n",
    "            max_score = score\n",
    "    return(max_score)\n",
    "\n",
    "def TotalFitnessScore(sequences, Pn):\n",
    "    L, Ts = len(sequences), 0\n",
    "    for i in range(L):\n",
    "        Ts += FitnessScore(sequences[i], Pn)\n",
    "    return Ts"
   ]
  },
  {
   "cell_type": "code",
   "execution_count": 580,
   "id": "9b1f3e94",
   "metadata": {},
   "outputs": [],
   "source": [
    "def crossover(sTable):\n",
    "    Table=[]\n",
    "    for n in range(25):\n",
    "        k = random.randint(2, 13) \n",
    "        i = random.randint(1, len(sTable)-1)\n",
    "        j = random.randint(1, len(sTable)-1) \n",
    "        p1 = sTable[i][\"motif\"]\n",
    "        p2 = sTable[j][\"motif\"]\n",
    "\n",
    "        o1=p1[0:k+1]+p2[k+1:10]\n",
    "        o2=p2[0:k+1]+p1[k+1:10]\n",
    "                    \n",
    "        Table.append(o1)\n",
    "        Table.append(o2)   \n",
    "    return  Table  \n",
    "\n",
    "def mutation(p):\n",
    "    randomChar = random.choice(['A', 'C', 'G', 'T'])\n",
    "    seq = list(p)\n",
    "    index = random.randint(3, len(p)-1)\n",
    "    seq[index] = randomChar\n",
    "    return \"\".join(seq)"
   ]
  },
  {
   "cell_type": "code",
   "execution_count": 588,
   "id": "909fd467",
   "metadata": {},
   "outputs": [],
   "source": [
    "def GeneticAlgorithm(parentTable, count):\n",
    "    if(count >= 50):\n",
    "        return parentTable\n",
    "    childTable=[]\n",
    "    tables = crossover(parentTable)\n",
    "    tables = [mutation(i) for i in tables]\n",
    "    tables \n",
    "    for i in tables:\n",
    "        Pi = i\n",
    "        score = TotalFitnessScore(sequences, Pi)    \n",
    "        childTable.append({\"motif\":Pi,\"score\":score})\n",
    "    childTable = sorted(childTable, key=lambda x: x['score'])\n",
    "    childTable[:10] = parentTable[-10:]\n",
    "    childTable = sorted(childTable, key=lambda x: x['score'])\n",
    "    if(childTable[-1]['score'] == parentTable[-1]['score']):\n",
    "        count+=10\n",
    "    print(childTable)\n",
    "    print(\"-------------------------\")\n",
    "    count+=1;\n",
    "    return Elitism(childTable, count)"
   ]
  },
  {
   "cell_type": "code",
   "execution_count": 597,
   "id": "882a672a",
   "metadata": {},
   "outputs": [],
   "source": [
    "file = open(\"sequences.txt\")\n",
    "sequences = file.readlines()\n",
    "for n,i in enumerate(sequences):\n",
    "    sequences[n] = i.strip()\n",
    "sequences = sequences[:-1]"
   ]
  },
  {
   "cell_type": "code",
   "execution_count": 598,
   "id": "c5ab3235",
   "metadata": {},
   "outputs": [
    {
     "name": "stdout",
     "output_type": "stream",
     "text": [
      "[{'motif': 'AAAGCTGATT', 'score': 35.699999999999996}, {'motif': 'AGGAGGCGCA', 'score': 35.8}, {'motif': 'GTAGGTGGGG', 'score': 35.800000000000004}, {'motif': 'AACGGGGAAC', 'score': 36.09999999999997}, {'motif': 'AGGAAGTGGA', 'score': 36.299999999999976}, {'motif': 'ACCGAGGTGG', 'score': 36.500000000000014}, {'motif': 'GTAGCTGGAA', 'score': 36.699999999999996}, {'motif': 'GTAGGTGGCT', 'score': 37.3}, {'motif': 'AAAGAACGGA', 'score': 37.3}, {'motif': 'AAAGCCGTTG', 'score': 37.9}, {'motif': 'AAAGAAAATG', 'score': 38.29999999999999}, {'motif': 'AAGGGGAAAG', 'score': 38.3}, {'motif': 'GTAGGTGGAT', 'score': 38.600000000000016}, {'motif': 'AGGGGAAAGA', 'score': 38.699999999999996}, {'motif': 'AGGTGGTGAG', 'score': 38.80000000000002}, {'motif': 'AAGAAGGGGG', 'score': 39.09999999999999}, {'motif': 'GAAGGTGTAA', 'score': 39.39999999999999}, {'motif': 'AGGAAGCAGT', 'score': 39.39999999999999}, {'motif': 'AACGGGGAAG', 'score': 39.8}, {'motif': 'AGCAAGGGGG', 'score': 40.0}, {'motif': 'AAAGAAAGAA', 'score': 40.399999999999984}, {'motif': 'GAGTAAAGAA', 'score': 41.29999999999996}, {'motif': 'GAAGGAGAAA', 'score': 41.599999999999966}, {'motif': 'AAAGAAAGTG', 'score': 41.89999999999998}, {'motif': 'AAGAGGAGGG', 'score': 42.19999999999996}, {'motif': 'AGGCGCAGAG', 'score': 42.49999999999996}, {'motif': 'AAGAGGAACG', 'score': 42.599999999999966}, {'motif': 'GGCGAAGAGA', 'score': 42.799999999999955}, {'motif': 'GATAGAAAGT', 'score': 42.79999999999996}, {'motif': 'AAGGCGAATA', 'score': 43.09999999999995}, {'motif': 'AAGCAAAGTC', 'score': 43.19999999999995}, {'motif': 'AAGCAAAGGT', 'score': 43.49999999999996}, {'motif': 'AGGAAGCAGA', 'score': 43.69999999999996}, {'motif': 'AGGTAGCAAA', 'score': 43.899999999999956}, {'motif': 'CAAAGGGGAA', 'score': 44.099999999999966}, {'motif': 'AAAGCCGAAG', 'score': 44.29999999999995}, {'motif': 'GAAGGAGGAA', 'score': 44.8}, {'motif': 'CGAAGAGGAA', 'score': 46.49999999999999}, {'motif': 'CAAAGGCGAA', 'score': 47.69999999999999}, {'motif': 'AGCAAAGGCG', 'score': 47.79999999999999}, {'motif': 'GAAGCAAAGG', 'score': 47.9}, {'motif': 'GGAAGCAAAG', 'score': 48.099999999999994}, {'motif': 'AGGAAGCAAA', 'score': 48.199999999999996}, {'motif': 'AGGAAGCAAA', 'score': 48.199999999999996}, {'motif': 'AGGAAGCAAA', 'score': 48.199999999999996}, {'motif': 'AGGAAGCAAA', 'score': 48.199999999999996}, {'motif': 'AGGAAGCAAA', 'score': 48.199999999999996}, {'motif': 'AGGAAGCAAA', 'score': 48.199999999999996}, {'motif': 'AGGAAGCAAA', 'score': 48.199999999999996}, {'motif': 'AGGAAGCAAA', 'score': 48.199999999999996}]\n",
      "-------------------------\n",
      "[{'motif': 'AAATAGCAAA', 'score': 35.499999999999986}, {'motif': 'AGGAACCAGT', 'score': 35.599999999999994}, {'motif': 'AGGAAACTGA', 'score': 35.699999999999974}, {'motif': 'CGAGAAGAGA', 'score': 35.69999999999999}, {'motif': 'GGCTGAGGAA', 'score': 35.89999999999997}, {'motif': 'AAGCAAAACG', 'score': 36.19999999999997}, {'motif': 'GTAGGTGGGA', 'score': 36.40000000000001}, {'motif': 'AAAGCCGATA', 'score': 36.69999999999999}, {'motif': 'GTAGGTGGAG', 'score': 37.20000000000001}, {'motif': 'AAAGAACGGA', 'score': 37.3}, {'motif': 'AAGGGGAAAG', 'score': 38.3}, {'motif': 'GATAGAAGGT', 'score': 38.3}, {'motif': 'GAAGAAGGGG', 'score': 38.699999999999996}, {'motif': 'AAGAGGAGGA', 'score': 38.699999999999996}, {'motif': 'AAGCGAAGGT', 'score': 38.8}, {'motif': 'AAGCAAAAGT', 'score': 38.8}, {'motif': 'GAAGGTGAAA', 'score': 39.099999999999994}, {'motif': 'AGGAATCAAG', 'score': 39.19999999999999}, {'motif': 'AGGTAGTAAA', 'score': 39.29999999999999}, {'motif': 'GAAGGTGTAA', 'score': 39.39999999999999}, {'motif': 'AAACCCGAAG', 'score': 39.500000000000014}, {'motif': 'AGGAAGCGAT', 'score': 39.59999999999999}, {'motif': 'AACGGGGAAG', 'score': 39.8}, {'motif': 'AGCAAGGGGG', 'score': 40.0}, {'motif': 'AAGCAAAGAG', 'score': 40.0}, {'motif': 'GTAGGTGGAA', 'score': 40.09999999999999}, {'motif': 'AAAGAAAGTC', 'score': 41.199999999999974}, {'motif': 'GAGTAAAGAA', 'score': 41.29999999999996}, {'motif': 'GAAGGACGAA', 'score': 41.39999999999996}, {'motif': 'GAAGGGGGAA', 'score': 42.19999999999996}, {'motif': 'GATAGAAAGT', 'score': 42.79999999999996}, {'motif': 'AAGCAAAGGT', 'score': 43.49999999999996}, {'motif': 'AGGAGGCAAA', 'score': 43.499999999999964}, {'motif': 'AGGAAGCAGA', 'score': 43.69999999999996}, {'motif': 'AGGAAGCTAA', 'score': 43.79999999999996}, {'motif': 'AGGAACCAAA', 'score': 43.79999999999996}, {'motif': 'AGGTAGCAAA', 'score': 43.899999999999956}, {'motif': 'AGGAAGCGAA', 'score': 43.899999999999956}, {'motif': 'AGGAATCAAA', 'score': 43.99999999999996}, {'motif': 'GAAGCAAAGG', 'score': 47.9}, {'motif': 'GAAGCAAAGG', 'score': 47.9}, {'motif': 'GGAAGCAAAG', 'score': 48.099999999999994}, {'motif': 'AGGAAGCAAA', 'score': 48.199999999999996}, {'motif': 'AGGAAGCAAA', 'score': 48.199999999999996}, {'motif': 'AGGAAGCAAA', 'score': 48.199999999999996}, {'motif': 'AGGAAGCAAA', 'score': 48.199999999999996}, {'motif': 'AGGAAGCAAA', 'score': 48.199999999999996}, {'motif': 'AGGAAGCAAA', 'score': 48.199999999999996}, {'motif': 'AGGAAGCAAA', 'score': 48.199999999999996}, {'motif': 'AGGAAGCAAA', 'score': 48.199999999999996}]\n",
      "-------------------------\n",
      "[{'motif': 'AGGTAGTGAA', 'score': 35.4}, {'motif': 'AGGAGAAACT', 'score': 35.499999999999986}, {'motif': 'AAGACAAGGT', 'score': 35.49999999999999}, {'motif': 'GATGGGAAAG', 'score': 35.5}, {'motif': 'GATAGCAGGA', 'score': 35.699999999999996}, {'motif': 'AAGAAGCGGG', 'score': 35.79999999999999}, {'motif': 'AGGTAGTATA', 'score': 35.9}, {'motif': 'AGCAAGGGGA', 'score': 36.39999999999997}, {'motif': 'AAAGAAGGGG', 'score': 36.89999999999999}, {'motif': 'AACAGAAAGC', 'score': 37.09999999999999}, {'motif': 'AAAGAACGGA', 'score': 37.3}, {'motif': 'GTAGGTGGAC', 'score': 37.4}, {'motif': 'GAGTAAAGAT', 'score': 37.899999999999984}, {'motif': 'GAAGAAGGGA', 'score': 37.89999999999999}, {'motif': 'GGCGGAGGAA', 'score': 38.19999999999999}, {'motif': 'GAAGGGGGGA', 'score': 38.29999999999999}, {'motif': 'GAAGGACGCA', 'score': 38.499999999999986}, {'motif': 'AGCGGGAAAG', 'score': 38.49999999999999}, {'motif': 'AGGCAAAGAA', 'score': 38.900000000000006}, {'motif': 'AGGAAGCCAT', 'score': 39.19999999999999}, {'motif': 'AGGAGGCCAA', 'score': 39.199999999999996}, {'motif': 'AGGCACCAAA', 'score': 39.39999999999999}, {'motif': 'AGGTACCAAA', 'score': 39.39999999999999}, {'motif': 'AGCACGCAAA', 'score': 39.8}, {'motif': 'AAGCAAAGAG', 'score': 40.0}, {'motif': 'GTAGGTGGAA', 'score': 40.09999999999999}, {'motif': 'AGGAACGAGG', 'score': 41.69999999999997}, {'motif': 'AGGAAGGGGG', 'score': 42.69999999999996}, {'motif': 'AGGAAGTAAA', 'score': 43.499999999999964}, {'motif': 'AGGAGGCAAA', 'score': 43.499999999999964}, {'motif': 'AGGATGCAAA', 'score': 43.69999999999996}, {'motif': 'GAAGCAAAGA', 'score': 43.69999999999996}, {'motif': 'AGGACGCAAA', 'score': 43.69999999999996}, {'motif': 'AGGCAGCAAA', 'score': 43.79999999999996}, {'motif': 'AGGTAGCAAA', 'score': 43.899999999999956}, {'motif': 'AGGAAGCGAA', 'score': 43.899999999999956}, {'motif': 'AGGAATCAAA', 'score': 43.99999999999996}, {'motif': 'AGGAATCAAA', 'score': 43.99999999999996}, {'motif': 'GAAGCAAAGG', 'score': 47.9}, {'motif': 'GAAGCAAAGG', 'score': 47.9}, {'motif': 'GGAAGCAAAG', 'score': 48.099999999999994}, {'motif': 'AGGAAGCAAA', 'score': 48.199999999999996}, {'motif': 'AGGAAGCAAA', 'score': 48.199999999999996}, {'motif': 'AGGAAGCAAA', 'score': 48.199999999999996}, {'motif': 'AGGAAGCAAA', 'score': 48.199999999999996}, {'motif': 'AGGAAGCAAA', 'score': 48.199999999999996}, {'motif': 'AGGAAGCAAA', 'score': 48.199999999999996}, {'motif': 'AGGAAGCAAA', 'score': 48.199999999999996}, {'motif': 'AGGAAGCAAA', 'score': 48.199999999999996}, {'motif': 'AGGAAGCAAA', 'score': 48.199999999999996}]\n",
      "-------------------------\n",
      "[{'motif': 'AGGAAACCAG', 'score': 35.3}, {'motif': 'AGGGAAGGGG', 'score': 35.499999999999964}, {'motif': 'AGGATGCGAG', 'score': 35.499999999999986}, {'motif': 'AGGAGAAACT', 'score': 35.499999999999986}, {'motif': 'AGGAAGGGTT', 'score': 35.59999999999999}, {'motif': 'AGGAGGCCAT', 'score': 35.59999999999999}, {'motif': 'AGCGGGCAAG', 'score': 35.59999999999999}, {'motif': 'GTAAAGCAAA', 'score': 35.599999999999994}, {'motif': 'GAAGGACAAG', 'score': 35.599999999999994}, {'motif': 'AGGCACCAGG', 'score': 35.69999999999998}, {'motif': 'AGCGAACGGA', 'score': 35.69999999999999}, {'motif': 'AGGAGCCCAA', 'score': 35.699999999999996}, {'motif': 'AAGCAAAAAA', 'score': 35.699999999999996}, {'motif': 'GAAACAAAAA', 'score': 35.79999999999999}, {'motif': 'GAAGCACAAC', 'score': 35.9}, {'motif': 'GAAGAAGGGA', 'score': 37.89999999999999}, {'motif': 'GAAGCAGGGA', 'score': 37.999999999999986}, {'motif': 'GGAAGCAGCA', 'score': 38.29999999999999}, {'motif': 'AGGAACGGGG', 'score': 38.8}, {'motif': 'AGGATGGGGG', 'score': 39.099999999999994}, {'motif': 'AAGAAGTAAA', 'score': 39.199999999999996}, {'motif': 'AGGATGTAAA', 'score': 39.199999999999996}, {'motif': 'AGGAGACAAA', 'score': 39.29999999999999}, {'motif': 'AGGAATCAAC', 'score': 39.29999999999999}, {'motif': 'AGGAGGATGG', 'score': 39.29999999999999}, {'motif': 'AGGTAGCAAG', 'score': 39.599999999999994}, {'motif': 'AGGAAGGATG', 'score': 41.39999999999996}, {'motif': 'AGGAAGGGGG', 'score': 42.69999999999996}, {'motif': 'AAGAAGCAAA', 'score': 43.59999999999996}, {'motif': 'AGGAAGCAAC', 'score': 43.59999999999996}, {'motif': 'GAAGCAAAGA', 'score': 43.69999999999996}, {'motif': 'AGGACGCAAA', 'score': 43.69999999999996}, {'motif': 'AGGAACCAAA', 'score': 43.79999999999996}, {'motif': 'AGGAATCAAA', 'score': 43.99999999999996}, {'motif': 'GAAGCAAAGC', 'score': 44.09999999999996}, {'motif': 'GAAGCAAAGG', 'score': 47.9}, {'motif': 'GGAAGCAAAG', 'score': 48.099999999999994}, {'motif': 'AGGAAGCAAA', 'score': 48.199999999999996}, {'motif': 'AGGAAGCAAA', 'score': 48.199999999999996}, {'motif': 'AGGAAGCAAA', 'score': 48.199999999999996}, {'motif': 'AGGAAGCAAA', 'score': 48.199999999999996}, {'motif': 'AGGAAGCAAA', 'score': 48.199999999999996}, {'motif': 'AGGAAGCAAA', 'score': 48.199999999999996}, {'motif': 'AGGAAGCAAA', 'score': 48.199999999999996}, {'motif': 'AGGAAGCAAA', 'score': 48.199999999999996}, {'motif': 'AGGAAGCAAA', 'score': 48.199999999999996}, {'motif': 'AGGAAGCAAA', 'score': 48.199999999999996}, {'motif': 'AGGAAGCAAA', 'score': 48.199999999999996}, {'motif': 'AGGAAGCAAA', 'score': 48.199999999999996}, {'motif': 'AGGAAGCAAA', 'score': 48.199999999999996}]\n",
      "-------------------------\n"
     ]
    },
    {
     "name": "stdout",
     "output_type": "stream",
     "text": [
      "[{'motif': 'AAGCAAAAAA', 'score': 35.699999999999996}, {'motif': 'AGGATGTAGA', 'score': 35.699999999999996}, {'motif': 'AAGAAGAATA', 'score': 35.7}, {'motif': 'GAAGCGGGGG', 'score': 35.79999999999999}, {'motif': 'AGGATGGATA', 'score': 35.8}, {'motif': 'AGGAAAGGGT', 'score': 35.99999999999997}, {'motif': 'GGAAGCATCA', 'score': 36.09999999999999}, {'motif': 'GGAAGTAGCA', 'score': 37.69999999999999}, {'motif': 'AGGGAAAGGA', 'score': 38.099999999999994}, {'motif': 'AGGATGTAAG', 'score': 38.19999999999999}, {'motif': 'GGAAGCAGCA', 'score': 38.29999999999999}, {'motif': 'AGGAAGGGGC', 'score': 38.49999999999999}, {'motif': 'AAGAGAAAGT', 'score': 38.699999999999996}, {'motif': 'GAAGAAGGGG', 'score': 38.699999999999996}, {'motif': 'AGGAAGGGGT', 'score': 38.8}, {'motif': 'AGGGAGCAAC', 'score': 39.199999999999996}, {'motif': 'AAGTAGCAAA', 'score': 39.199999999999996}, {'motif': 'AGGAATTAAA', 'score': 39.29999999999999}, {'motif': 'AGGGAGCAAG', 'score': 39.29999999999999}, {'motif': 'GAAGCAAACA', 'score': 39.3}, {'motif': 'AGGAAGGATA', 'score': 39.39999999999999}, {'motif': 'AGGCATCAAA', 'score': 39.49999999999999}, {'motif': 'GAAGGAGGGA', 'score': 41.099999999999966}, {'motif': 'GAAGAAGGAA', 'score': 41.39999999999996}, {'motif': 'AGGAAGCAAG', 'score': 43.39999999999996}, {'motif': 'AGGAAGCAAG', 'score': 43.39999999999996}, {'motif': 'GGAAGCAAGG', 'score': 43.39999999999996}, {'motif': 'AGGACGCAAA', 'score': 43.69999999999996}, {'motif': 'AGGAAGCTAA', 'score': 43.79999999999996}, {'motif': 'AGGAACCAAA', 'score': 43.79999999999996}, {'motif': 'AGGAAGCCAA', 'score': 43.79999999999996}, {'motif': 'AGGAAGCGAA', 'score': 43.899999999999956}, {'motif': 'AGGAAGCAAT', 'score': 43.899999999999956}, {'motif': 'AGGGAGCAAA', 'score': 43.89999999999996}, {'motif': 'AGGAATCAAA', 'score': 43.99999999999996}, {'motif': 'AGGAAGCAAA', 'score': 48.199999999999996}, {'motif': 'AGGAAGCAAA', 'score': 48.199999999999996}, {'motif': 'AGGAAGCAAA', 'score': 48.199999999999996}, {'motif': 'AGGAAGCAAA', 'score': 48.199999999999996}, {'motif': 'AGGAAGCAAA', 'score': 48.199999999999996}, {'motif': 'AGGAAGCAAA', 'score': 48.199999999999996}, {'motif': 'AGGAAGCAAA', 'score': 48.199999999999996}, {'motif': 'AGGAAGCAAA', 'score': 48.199999999999996}, {'motif': 'AGGAAGCAAA', 'score': 48.199999999999996}, {'motif': 'AGGAAGCAAA', 'score': 48.199999999999996}, {'motif': 'AGGAAGCAAA', 'score': 48.199999999999996}, {'motif': 'AGGAAGCAAA', 'score': 48.199999999999996}, {'motif': 'AGGAAGCAAA', 'score': 48.199999999999996}, {'motif': 'AGGAAGCAAA', 'score': 48.199999999999996}, {'motif': 'AGGAAGCAAA', 'score': 48.199999999999996}]\n",
      "-------------------------\n",
      "[{'motif': 'TCTAGGAAGA', 'score': 35.99999999999999}, {'motif': 'AACGGGGAAC', 'score': 36.09999999999997}, {'motif': 'AACGGGGATG', 'score': 36.29999999999997}, {'motif': 'ACCTAAGTGG', 'score': 36.500000000000014}, {'motif': 'GTAGGTGGGT', 'score': 36.7}, {'motif': 'AGGATGCAGG', 'score': 37.79999999999999}, {'motif': 'ACCTAGGTGG', 'score': 38.00000000000001}, {'motif': 'AAGGCGAAAG', 'score': 38.10000000000002}, {'motif': 'CGAAGAAAAA', 'score': 38.200000000000024}, {'motif': 'GGAGAACAGA', 'score': 38.29999999999999}, {'motif': 'AAAGAATGTA', 'score': 38.300000000000004}, {'motif': 'TGGTGAGAAA', 'score': 38.400000000000006}, {'motif': 'AGGAATCAGG', 'score': 38.69999999999998}, {'motif': 'GAAGGGGATG', 'score': 38.699999999999996}, {'motif': 'AGGAGAAGAA', 'score': 38.8}, {'motif': 'GAGGAAAGCG', 'score': 38.8}, {'motif': 'GCGAAGAGAG', 'score': 38.80000000000002}, {'motif': 'AAGAGGAACA', 'score': 38.89999999999999}, {'motif': 'GGCGAAGGAG', 'score': 38.89999999999999}, {'motif': 'GAAGAGGGGG', 'score': 38.99999999999999}, {'motif': 'AGGCAGCGAA', 'score': 39.29999999999999}, {'motif': 'AAGGGGCAGA', 'score': 39.400000000000006}, {'motif': 'AAAGCCGAAC', 'score': 39.40000000000002}, {'motif': 'AGCAAAGAAG', 'score': 39.49999999999999}, {'motif': 'GGAAAGCAAA', 'score': 39.699999999999996}, {'motif': 'AAGGGGAAGC', 'score': 39.7}, {'motif': 'GAAGGAAGAA', 'score': 41.29999999999996}, {'motif': 'GAAGGAGGAC', 'score': 41.69999999999997}, {'motif': 'AGGAGCAAAG', 'score': 41.999999999999964}, {'motif': 'CGAACAGGAA', 'score': 42.299999999999955}, {'motif': 'AGGCGAACAG', 'score': 42.49999999999996}, {'motif': 'GAAGAGTAAG', 'score': 42.79999999999996}, {'motif': 'GAAGCAACGG', 'score': 43.19999999999996}, {'motif': 'GAAGGTGGAA', 'score': 43.29999999999996}, {'motif': 'AGGAAGCACA', 'score': 43.89999999999996}, {'motif': 'GGAAGGAGGA', 'score': 45.2}, {'motif': 'GAGGAAAGAA', 'score': 45.4}, {'motif': 'GGCGAAGAGG', 'score': 46.59999999999999}, {'motif': 'AGGCGAAGAG', 'score': 46.89999999999999}, {'motif': 'AAGGCGAAGA', 'score': 47.29999999999999}, {'motif': 'CAAAGGCGAA', 'score': 47.69999999999999}, {'motif': 'AGCAAAGGCG', 'score': 47.79999999999999}, {'motif': 'GAAGCAAAGG', 'score': 47.9}, {'motif': 'GGAAGCAAAG', 'score': 48.099999999999994}, {'motif': 'AGGAAGCAAA', 'score': 48.199999999999996}, {'motif': 'AGGAAGCAAA', 'score': 48.199999999999996}, {'motif': 'AGGAAGCAAA', 'score': 48.199999999999996}, {'motif': 'AGGAAGCAAA', 'score': 48.199999999999996}, {'motif': 'AGGAAGCAAA', 'score': 48.199999999999996}, {'motif': 'AGGAAGCAAA', 'score': 48.199999999999996}]\n",
      "-------------------------\n",
      "[{'motif': 'AGCACAGAAG', 'score': 35.499999999999986}, {'motif': 'GGCGAATGAA', 'score': 35.499999999999986}, {'motif': 'AGCAACGGAA', 'score': 35.49999999999999}, {'motif': 'GTAGCGAAGA', 'score': 35.49999999999999}, {'motif': 'ACCTAAGTAG', 'score': 35.49999999999999}, {'motif': 'AGGCGACAAT', 'score': 35.5}, {'motif': 'ACCAGGCGAA', 'score': 35.59999999999998}, {'motif': 'AGGATGCGGG', 'score': 35.59999999999999}, {'motif': 'GGCGATGGAG', 'score': 35.6}, {'motif': 'AGGCGCACCG', 'score': 35.699999999999996}, {'motif': 'AAGAGGCACA', 'score': 35.99999999999999}, {'motif': 'ACCTAGGTGT', 'score': 36.10000000000001}, {'motif': 'CGAAGAAATA', 'score': 36.400000000000006}, {'motif': 'AGGTAGACAG', 'score': 37.300000000000004}, {'motif': 'AAAGAATGGA', 'score': 37.699999999999996}, {'motif': 'GAGGAAACAG', 'score': 38.29999999999999}, {'motif': 'AGGCGAACGG', 'score': 38.40000000000002}, {'motif': 'CAAAGGCGCG', 'score': 38.40000000000003}, {'motif': 'GAAGGGGAGG', 'score': 38.49999999999999}, {'motif': 'AAGGCGAACC', 'score': 38.60000000000002}, {'motif': 'AGGAGAAGAA', 'score': 38.8}, {'motif': 'AGGAGGCAGG', 'score': 38.9}, {'motif': 'AGGAAGCACT', 'score': 39.19999999999999}, {'motif': 'AGGATGCAGA', 'score': 39.199999999999996}, {'motif': 'AAGTCGAAGG', 'score': 39.29999999999999}, {'motif': 'AGGAAGAACA', 'score': 39.39999999999999}, {'motif': 'AAAGCCGTAG', 'score': 39.50000000000002}, {'motif': 'AGCAAAGGGA', 'score': 39.8}, {'motif': 'GGAAGGAGCA', 'score': 41.39999999999996}, {'motif': 'GAAGGCGGAA', 'score': 41.89999999999996}, {'motif': 'GAAGGCGGAA', 'score': 41.89999999999996}, {'motif': 'AAGAGGAAGA', 'score': 43.09999999999996}, {'motif': 'AGGAAGAAAA', 'score': 43.69999999999996}, {'motif': 'GGAAGGTGGA', 'score': 43.69999999999996}, {'motif': 'AGGCAGCAAA', 'score': 43.79999999999996}, {'motif': 'AGGAAGCGAA', 'score': 43.899999999999956}, {'motif': 'AGGAAGCACA', 'score': 43.89999999999996}, {'motif': 'AGCAAAGGGG', 'score': 44.19999999999997}, {'motif': 'CAAAGGCGAA', 'score': 47.69999999999999}, {'motif': 'CAAAGGCGAA', 'score': 47.69999999999999}, {'motif': 'CAAAGGCGAA', 'score': 47.69999999999999}, {'motif': 'AGCAAAGGCG', 'score': 47.79999999999999}, {'motif': 'GAAGCAAAGG', 'score': 47.9}, {'motif': 'GGAAGCAAAG', 'score': 48.099999999999994}, {'motif': 'AGGAAGCAAA', 'score': 48.199999999999996}, {'motif': 'AGGAAGCAAA', 'score': 48.199999999999996}, {'motif': 'AGGAAGCAAA', 'score': 48.199999999999996}, {'motif': 'AGGAAGCAAA', 'score': 48.199999999999996}, {'motif': 'AGGAAGCAAA', 'score': 48.199999999999996}, {'motif': 'AGGAAGCAAA', 'score': 48.199999999999996}]\n",
      "-------------------------\n",
      "[{'motif': 'GGCGAATGAA', 'score': 35.499999999999986}, {'motif': 'GGCGAATGAA', 'score': 35.499999999999986}, {'motif': 'AGGAAATCGA', 'score': 35.499999999999986}, {'motif': 'AAGGAGAACC', 'score': 35.599999999999994}, {'motif': 'AGGTAAACAG', 'score': 35.599999999999994}, {'motif': 'AGGATGCGGA', 'score': 35.69999999999999}, {'motif': 'AAGTCGACGG', 'score': 35.699999999999996}, {'motif': 'AGCAATGGAA', 'score': 35.7}, {'motif': 'GAAAGGCACA', 'score': 35.800000000000004}, {'motif': 'AAGAGGCACA', 'score': 35.99999999999999}, {'motif': 'AAAGAATGGT', 'score': 36.9}, {'motif': 'AGGTAGAGAG', 'score': 37.30000000000001}, {'motif': 'GGATGGAGCA', 'score': 37.99999999999999}, {'motif': 'GGAACGAGCA', 'score': 38.09999999999999}, {'motif': 'GAAGGCTGAA', 'score': 38.199999999999996}, {'motif': 'AGGAGAAGGG', 'score': 38.599999999999994}, {'motif': 'AAGAGGAGCG', 'score': 38.699999999999996}, {'motif': 'AGGAACGGGG', 'score': 38.8}, {'motif': 'GAAGGGAAGG', 'score': 39.099999999999994}, {'motif': 'AGGAAGCACT', 'score': 39.19999999999999}, {'motif': 'AGGAGGCATA', 'score': 39.19999999999999}, {'motif': 'AGGATGCAGA', 'score': 39.199999999999996}, {'motif': 'AGCAAAGGTA', 'score': 39.199999999999996}, {'motif': 'GAAGCAAGCG', 'score': 39.29999999999999}, {'motif': 'AGGAAGAATA', 'score': 39.29999999999999}, {'motif': 'AGGAAGCACG', 'score': 39.39999999999999}, {'motif': 'AGGAAGAAGA', 'score': 39.39999999999999}, {'motif': 'CGAAGAGATA', 'score': 39.60000000000001}, {'motif': 'AGCAAAGGGA', 'score': 39.8}, {'motif': 'AGCACGCAAA', 'score': 39.8}, {'motif': 'AAGCGGAAGA', 'score': 40.300000000000004}, {'motif': 'AGGAAAAAAA', 'score': 41.999999999999964}, {'motif': 'AAGGAGCAAA', 'score': 42.099999999999966}, {'motif': 'AAGGGGAAGG', 'score': 42.29999999999996}, {'motif': 'AGGAGGCAAA', 'score': 43.499999999999964}, {'motif': 'AGGATGCAAA', 'score': 43.69999999999996}, {'motif': 'AGGACGCAAA', 'score': 43.69999999999996}, {'motif': 'AGGCAGCAAA', 'score': 43.79999999999996}, {'motif': 'AGGAAGCCAA', 'score': 43.79999999999996}, {'motif': 'AGGTAGCAAA', 'score': 43.899999999999956}, {'motif': 'CAAAGGCGAA', 'score': 47.69999999999999}, {'motif': 'AGCAAAGGCG', 'score': 47.79999999999999}, {'motif': 'GAAGCAAAGG', 'score': 47.9}, {'motif': 'GGAAGCAAAG', 'score': 48.099999999999994}, {'motif': 'AGGAAGCAAA', 'score': 48.199999999999996}, {'motif': 'AGGAAGCAAA', 'score': 48.199999999999996}, {'motif': 'AGGAAGCAAA', 'score': 48.199999999999996}, {'motif': 'AGGAAGCAAA', 'score': 48.199999999999996}, {'motif': 'AGGAAGCAAA', 'score': 48.199999999999996}, {'motif': 'AGGAAGCAAA', 'score': 48.199999999999996}]\n",
      "-------------------------\n"
     ]
    },
    {
     "name": "stdout",
     "output_type": "stream",
     "text": [
      "[{'motif': 'AGGCAACATA', 'score': 35.199999999999996}, {'motif': 'AGGGGGCATA', 'score': 35.29999999999999}, {'motif': 'GAAGCACATT', 'score': 35.3}, {'motif': 'GAAGGGAAAT', 'score': 35.39999999999999}, {'motif': 'GAAAGGTACA', 'score': 35.5}, {'motif': 'AGCATGGAGA', 'score': 35.59999999999999}, {'motif': 'AGGTAAACAG', 'score': 35.599999999999994}, {'motif': 'AGGGAGAGAG', 'score': 35.79999999999997}, {'motif': 'AGGTAAGGTA', 'score': 35.8}, {'motif': 'AGGACGCATT', 'score': 36.199999999999996}, {'motif': 'AGGTAGACGG', 'score': 36.6}, {'motif': 'AGGAGAAAGG', 'score': 38.49999999999999}, {'motif': 'AGGAAAAGAA', 'score': 38.69999999999998}, {'motif': 'AGGCGGAAGG', 'score': 38.699999999999996}, {'motif': 'AGGAACGGGG', 'score': 38.8}, {'motif': 'AAGGGTAAGG', 'score': 38.8}, {'motif': 'AGGAACGGGG', 'score': 38.8}, {'motif': 'AGGAGGCAGG', 'score': 38.9}, {'motif': 'GAAGAGAGAG', 'score': 38.99999999999999}, {'motif': 'AAGCGGAAGT', 'score': 39.0}, {'motif': 'AAGGAGAACA', 'score': 39.099999999999994}, {'motif': 'AAGGAGAACA', 'score': 39.099999999999994}, {'motif': 'AGGAGGCATA', 'score': 39.19999999999999}, {'motif': 'AGGAAGAATA', 'score': 39.29999999999999}, {'motif': 'AGGTAGCAAG', 'score': 39.599999999999994}, {'motif': 'GGAACGAGGA', 'score': 41.79999999999997}, {'motif': 'AGGAAAAAAA', 'score': 41.999999999999964}, {'motif': 'AAGGAGCAAA', 'score': 42.099999999999966}, {'motif': 'AAGGGGAAGG', 'score': 42.29999999999996}, {'motif': 'AGCACAGGCG', 'score': 43.09999999999995}, {'motif': 'GAAGCAAGGG', 'score': 43.49999999999996}, {'motif': 'AGGAGGCAAA', 'score': 43.499999999999964}, {'motif': 'AGCAAAGTCG', 'score': 43.69999999999995}, {'motif': 'AGGAAGAAAA', 'score': 43.69999999999996}, {'motif': 'AGGCAGCAAA', 'score': 43.79999999999996}, {'motif': 'AGGAAGCGAA', 'score': 43.899999999999956}, {'motif': 'AGGAAGCACA', 'score': 43.89999999999996}, {'motif': 'AGCAAAGGGG', 'score': 44.19999999999997}, {'motif': 'CAAAGGCGAA', 'score': 47.69999999999999}, {'motif': 'AGCAAAGGCG', 'score': 47.79999999999999}, {'motif': 'GAAGCAAAGG', 'score': 47.9}, {'motif': 'GGAAGCAAAG', 'score': 48.099999999999994}, {'motif': 'AGGAAGCAAA', 'score': 48.199999999999996}, {'motif': 'AGGAAGCAAA', 'score': 48.199999999999996}, {'motif': 'AGGAAGCAAA', 'score': 48.199999999999996}, {'motif': 'AGGAAGCAAA', 'score': 48.199999999999996}, {'motif': 'AGGAAGCAAA', 'score': 48.199999999999996}, {'motif': 'AGGAAGCAAA', 'score': 48.199999999999996}, {'motif': 'AGGAAGCAAA', 'score': 48.199999999999996}, {'motif': 'AGGAAGCAAA', 'score': 48.199999999999996}]\n",
      "-------------------------\n",
      "[{'motif': 'AGGGAGCGAG', 'score': 35.4}, {'motif': 'AAGGAGACCA', 'score': 35.49999999999999}, {'motif': 'AGGAAAACAG', 'score': 35.49999999999999}, {'motif': 'GAAGCGAATA', 'score': 35.6}, {'motif': 'AGGTACCAAG', 'score': 35.8}, {'motif': 'AGGGGAAAGT', 'score': 36.0}, {'motif': 'AGGTAGAACG', 'score': 36.70000000000001}, {'motif': 'GAAGGAAGGT', 'score': 37.8}, {'motif': 'AGGAAAGGTA', 'score': 38.19999999999999}, {'motif': 'AGGCGAGGGG', 'score': 38.300000000000026}, {'motif': 'AGGAACGTAA', 'score': 38.399999999999984}, {'motif': 'AGGCGGAAAA', 'score': 38.39999999999999}, {'motif': 'AGGAGAAAGG', 'score': 38.49999999999999}, {'motif': 'AGGCGGAAGG', 'score': 38.699999999999996}, {'motif': 'AAGGAGAACA', 'score': 39.099999999999994}, {'motif': 'GGAAACCAAG', 'score': 39.099999999999994}, {'motif': 'GAAGCAAGCG', 'score': 39.29999999999999}, {'motif': 'AAGGGGAAGT', 'score': 39.300000000000004}, {'motif': 'AGGTAGGCGG', 'score': 39.39999999999999}, {'motif': 'AGGACGCATA', 'score': 39.599999999999994}, {'motif': 'GAAGGCAAAG', 'score': 39.599999999999994}, {'motif': 'AAGGGGAACA', 'score': 39.6}, {'motif': 'AGGAAGGTCG', 'score': 39.79999999999999}, {'motif': 'AGCAAACAAA', 'score': 40.09999999999999}, {'motif': 'AGCAAGCAAG', 'score': 40.09999999999999}, {'motif': 'AGGAGGGAGG', 'score': 41.599999999999966}, {'motif': 'AGGAAGAAGG', 'score': 41.79999999999997}, {'motif': 'AGGAAGCAGG', 'score': 42.29999999999997}, {'motif': 'AGGAGGAAGG', 'score': 42.599999999999966}, {'motif': 'GGAAAGAGAG', 'score': 42.999999999999964}, {'motif': 'AGCACAGGCG', 'score': 43.09999999999995}, {'motif': 'GAACCAAAGG', 'score': 43.19999999999996}, {'motif': 'GAAGGAAAGG', 'score': 43.39999999999996}, {'motif': 'AGGAGGCAAA', 'score': 43.499999999999964}, {'motif': 'AGGCAGCAAA', 'score': 43.79999999999996}, {'motif': 'AGGAAGCATA', 'score': 43.79999999999996}, {'motif': 'AGGTAGCAAA', 'score': 43.899999999999956}, {'motif': 'AGGAAGCAAT', 'score': 43.899999999999956}, {'motif': 'AGGAAGCACA', 'score': 43.89999999999996}, {'motif': 'AGCAAAGGCG', 'score': 47.79999999999999}, {'motif': 'GAAGCAAAGG', 'score': 47.9}, {'motif': 'GGAAGCAAAG', 'score': 48.099999999999994}, {'motif': 'AGGAAGCAAA', 'score': 48.199999999999996}, {'motif': 'AGGAAGCAAA', 'score': 48.199999999999996}, {'motif': 'AGGAAGCAAA', 'score': 48.199999999999996}, {'motif': 'AGGAAGCAAA', 'score': 48.199999999999996}, {'motif': 'AGGAAGCAAA', 'score': 48.199999999999996}, {'motif': 'AGGAAGCAAA', 'score': 48.199999999999996}, {'motif': 'AGGAAGCAAA', 'score': 48.199999999999996}, {'motif': 'AGGAAGCAAA', 'score': 48.199999999999996}]\n",
      "-------------------------\n"
     ]
    }
   ],
   "source": [
    "chars = ['A','C','G','T']\n",
    "scoreTable = []\n",
    "\n",
    "count = 0\n",
    "finalTable = []\n",
    "for i in randomizedmotifsearch(sequences):\n",
    "    Pi = i\n",
    "    score = TotalFitnessScore(sequences, Pi)    \n",
    "    scoreTable.append({\"motif\":Pi,\"score\":score})\n",
    "        \n",
    "for i in range(2):\n",
    "    scoreTable = sorted(scoreTable, key=lambda x: x['score'])\n",
    "    scoreTable = scoreTable[-50:]\n",
    "    finalTable.append(GeneticAlgorithm(scoreTable, count)[-1])"
   ]
  },
  {
   "cell_type": "code",
   "execution_count": 599,
   "id": "57cd9c39",
   "metadata": {},
   "outputs": [
    {
     "name": "stdout",
     "output_type": "stream",
     "text": [
      "[{'motif': 'AGGAAGCAAA', 'score': 48.199999999999996}, {'motif': 'AGGAAGCAAA', 'score': 48.199999999999996}]\n"
     ]
    }
   ],
   "source": [
    "print(finalTable)"
   ]
  },
  {
   "cell_type": "code",
   "execution_count": 600,
   "id": "083f1e62",
   "metadata": {},
   "outputs": [
    {
     "name": "stdout",
     "output_type": "stream",
     "text": [
      "Motif is :  AGGAAGCAAA\n"
     ]
    }
   ],
   "source": [
    "finalTable = sorted(finalTable, key=lambda x: x['score'])\n",
    "print(\"Motif is : \",  finalTable[-1]['motif'])"
   ]
  }
 ],
 "metadata": {
  "kernelspec": {
   "display_name": "Python 3 (ipykernel)",
   "language": "python",
   "name": "python3"
  },
  "language_info": {
   "codemirror_mode": {
    "name": "ipython",
    "version": 3
   },
   "file_extension": ".py",
   "mimetype": "text/x-python",
   "name": "python",
   "nbconvert_exporter": "python",
   "pygments_lexer": "ipython3",
   "version": "3.10.4"
  }
 },
 "nbformat": 4,
 "nbformat_minor": 5
}
