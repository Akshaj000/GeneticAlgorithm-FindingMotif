{
 "cells": [
  {
   "cell_type": "code",
   "execution_count": 8,
   "id": "580b68e7",
   "metadata": {},
   "outputs": [],
   "source": [
    "import random"
   ]
  },
  {
   "cell_type": "code",
   "execution_count": 9,
   "id": "cc4c4ef5",
   "metadata": {},
   "outputs": [],
   "source": [
    "def randomizedmotifsearch(lines):\n",
    "    motifs = []\n",
    "    for n in lines:\n",
    "        for k in range(10):\n",
    "            i = random.randint(0, 365)\n",
    "            lmer=n[i:i+10]\n",
    "            motifs.append(lmer)     \n",
    "    return  motifs"
   ]
  },
  {
   "cell_type": "code",
   "execution_count": 10,
   "id": "309340b9",
   "metadata": {},
   "outputs": [],
   "source": [
    "def FitnessScore(Sn, Pn):\n",
    "    pnl = len(Pn)\n",
    "    max_score = 0\n",
    "    for i in range(len(Sn)-pnl+1):\n",
    "        score = 0\n",
    "        seq = Sn[i:i+pnl]\n",
    "        for j in range(pnl):\n",
    "            if Pn[j] == seq[j]:\n",
    "                score+=1/pnl\n",
    "        if score > max_score:\n",
    "            max_score = score\n",
    "    return(max_score)\n",
    "\n",
    "def TotalFitnessScore(sequences, Pn):\n",
    "    L, Ts = len(sequences), 0\n",
    "    for i in range(L):\n",
    "        Ts += FitnessScore(sequences[i], Pn)\n",
    "    return Ts"
   ]
  },
  {
   "cell_type": "code",
   "execution_count": 11,
   "id": "9b1f3e94",
   "metadata": {},
   "outputs": [],
   "source": [
    "def crossover(sTable):\n",
    "    Table=[]\n",
    "    for n in range(25):\n",
    "        k = random.randint(2, 13) \n",
    "        i = random.randint(1, len(sTable)-1)\n",
    "        j = random.randint(1, len(sTable)-1) \n",
    "        p1 = sTable[i][\"motif\"]\n",
    "        p2 = sTable[j][\"motif\"]\n",
    "\n",
    "        o1=p1[0:k+1]+p2[k+1:10]\n",
    "        o2=p2[0:k+1]+p1[k+1:10]\n",
    "                    \n",
    "        Table.append(o1)\n",
    "        Table.append(o2)   \n",
    "    return  Table  \n",
    "\n",
    "def mutation(p):\n",
    "    randomChar = random.choice(['A', 'C', 'G', 'T'])\n",
    "    seq = list(p)\n",
    "    index = random.randint(3, len(p)-1)\n",
    "    seq[index] = randomChar\n",
    "    return \"\".join(seq)"
   ]
  },
  {
   "cell_type": "code",
   "execution_count": 17,
   "id": "909fd467",
   "metadata": {},
   "outputs": [],
   "source": [
    "def GeneticAlgorithm(parentTable, count):\n",
    "    if(count >= 50):\n",
    "        return parentTable\n",
    "    childTable=[]\n",
    "    tables = crossover(parentTable)\n",
    "    tables = [mutation(i) for i in tables]\n",
    "    tables \n",
    "    for i in tables:\n",
    "        Pi = i\n",
    "        score = TotalFitnessScore(sequences, Pi)    \n",
    "        childTable.append({\"motif\":Pi,\"score\":score})\n",
    "    childTable = sorted(childTable, key=lambda x: x['score'])\n",
    "    childTable[:10] = parentTable[-10:]\n",
    "    childTable = sorted(childTable, key=lambda x: x['score'])\n",
    "    if(childTable[-1]['score'] == parentTable[-1]['score']):\n",
    "        count+=10\n",
    "    print(childTable)\n",
    "    print(\"-------------------------\")\n",
    "    count+=1;\n",
    "    return GeneticAlgorithm(childTable, count)"
   ]
  },
  {
   "cell_type": "markdown",
   "id": "de24baaa",
   "metadata": {},
   "source": [
    "### RUNNING on sequence.txt"
   ]
  },
  {
   "cell_type": "code",
   "execution_count": 28,
   "id": "882a672a",
   "metadata": {},
   "outputs": [],
   "source": [
    "file = open(\"sequences.txt\")\n",
    "sequences = file.readlines()\n",
    "for n,i in enumerate(sequences):\n",
    "    sequences[n] = i.strip()\n",
    "sequences = sequences[:-1]"
   ]
  },
  {
   "cell_type": "code",
   "execution_count": 29,
   "id": "3e76c1ba",
   "metadata": {},
   "outputs": [
    {
     "name": "stdout",
     "output_type": "stream",
     "text": [
      "['CATAGCCAGATAGCTTGCAATGCCGATGACCTAGGTGGTTAGATAGCTGTCAGTGGTATGGGGATACCTGAGTGGAGCAGCCGGCGGCGATATCGCGCTCCCTCCCAGCCACTCAAGGCTTGAGACTCGGACATTCGGACTCCCCGGACCGCGAAGGAATCGGAACGTACGGAGCCAATCTAAGAACTACGCTTAGAATCTAATCCCGAGACCAAACGCGATGGCACTGCTGCGTCCCCTGCATTCTTGCCTAATACGTTGATCACTATTGTGATCATTGTACGCGATCCATAGACAGGTTTGTTGCCCTGTAGAGCCTGGGTGTAACAGACAAACCCCCGTCTAGTTTCCTTGCCCATAACGAAGGGTGATATCTGACCTTTGTCTTAGATATTCGATT', 'TCGTAGGCCGCTGCCCTGCTAATGCCATCCTTCTCCAGCTTGCAATGCCGATGACCTAGGTGGTTAGATAGCTACGGGTATCCAGCATTCTGGTACTATTAGTTCTAAGCTGGTGCACTTTGCCTTAAGTTATCCCCACCGGACACGACACATCCATTCCTGAATAAGGCCCCCCTAATCGGACCCGCAGATTGTAGTAATTGCCTTTGGGCTAGATTCGGGCAATCAAATATGCAGCACAGGGTTGAAGAGGCGCTTACGGCAAACAATTACCTGAAAACTTCCGAACTCCGGGGCTGAGATGCGGGCCACACGTGTGACTTGCCGCTAAAGCATCTGCCCCAACTGAGAATACTCGAGGACGACTAACATCTTGCCCTTTCCACTTAGGCACTAGTCT', 'CTCTTAGCGGTGGTTGCTTATTAGACGCCACTTCCAGTTAGACTCTGAGGCTATCTTGCTCTTGGAACAAGCTCAGGAATGGAATGTGGTAATTCGTAGAGTCTCGCCTATACAAAGATGAATAATCTCTGGATTTTCATCTTAACTGGATAGACAATGACCAGGCCGAATTGATGGGTAAGCCGTTGTGAATGGGGCCTTCCGACGCTTATAGCGATGGCTGTTATAATGTCCTGAATTACGGGTATCAGGATCGCAATTAGCGTTGCATGGGAGCTGATAGGTCGCTGAGAGGACAGAGGGAGAACAGACTGACATGGCCTTCCGCAGGAGAGATATAAGGGCTCACAAAACCTCTCTAGCTTGCAATGCCGATGACCTAGGTGGTTAGATAGCGGGA', 'TGAAGTAGTCGGTAGCATCCGTCGGCGACACTTAGCGGCTTCGCAGACATAAGCTAGCAATGCCGATGACCTAGGTGGTTAGATAGAGTGTCGCGCAGTTTCATCCTACATACTGGGGCCTGGAATCAGGTTGGCCTCCGAACAAATCTAGTTCCACGACGCATAGGGAACTTGGAACCTAAACAACTGGATTGGTATCAATTACCCTGTGCACATAAGGCAATGCGCACTAATGCTGTGCCCAGATGTCGGACCTTTATATTAACATAGACGGTCTGACTGTCGTTCTTGGCGCGGTTGAACCAACGAGTTGCCGCGTAAAGTGAATACAGATGACATCAAAGTGTCCAATTTGAACTTGACCAAGACCCGATTTGCAAACTAATGACACAACGTGTAG', 'CTTAGGCCTGATATACGCCCTGACCCCAGAACGAACATTACAGGAAGAGATCTGATTAGTGTACGACGGGTTTATAGAGCATCATGGAATGGAATGCAACACTATTCCTTTGTCCGAGCTAGCAATGCCGATGACCTAGGTGGTTAGAAAGTAACTTAGGATACGGCAGTTCGTATCCATCTTAACACCGCAGTAAGGGTACGAATGGGGGTACTAAAACGGGCTACTACCTAGGGCCCAGGTAATTGGGTAGCTTACAACTCTGTCAGCAGTTCGACGGGTTCATGAATTGCGCCAGTGGCCCACAGCCCTGGTTTACTTGGACATAGGCGAATCGACAACCACGCGTGTAGATGTCCAACATGTAGTATTGTTGTCCGATTGCCGGAATAGACGATAT']\n",
      "50\n"
     ]
    }
   ],
   "source": [
    "print(sequences[:5])\n",
    "print(len(sequences))"
   ]
  },
  {
   "cell_type": "code",
   "execution_count": 30,
   "id": "c5ab3235",
   "metadata": {},
   "outputs": [
    {
     "name": "stdout",
     "output_type": "stream",
     "text": [
      "[{'motif': 'AAACAAGCAA', 'score': 37.2}, {'motif': 'ATAGGAGGAA', 'score': 38.09999999999999}, {'motif': 'AAGAAAAGAA', 'score': 38.29999999999999}, {'motif': 'GCGAACAGGC', 'score': 38.40000000000002}, {'motif': 'AGGAAAGCTA', 'score': 38.499999999999986}, {'motif': 'AAAGGCCACG', 'score': 38.50000000000003}, {'motif': 'AAAGGGGGAA', 'score': 38.59999999999999}, {'motif': 'AAGTGGAAGC', 'score': 38.599999999999994}, {'motif': 'GGACGAAGAG', 'score': 38.60000000000002}, {'motif': 'GAAGGCGAAC', 'score': 38.60000000000002}, {'motif': 'AGGAGAGGAA', 'score': 38.699999999999996}, {'motif': 'AGGGGCGAAG', 'score': 38.70000000000002}, {'motif': 'GAAGAAGAGG', 'score': 38.8}, {'motif': 'AGCCAAGGAG', 'score': 38.9}, {'motif': 'GAAGGCGGAT', 'score': 39.39999999999999}, {'motif': 'GGAAGGTAAG', 'score': 39.39999999999999}, {'motif': 'AAGCAGAGGA', 'score': 39.599999999999994}, {'motif': 'CAGGAAACAA', 'score': 40.29999999999999}, {'motif': 'GAAGGAAGCA', 'score': 40.99999999999998}, {'motif': 'GAAGGAGGTA', 'score': 41.19999999999996}, {'motif': 'GAGCAAGGAG', 'score': 41.89999999999997}, {'motif': 'AGGAAGGAAG', 'score': 42.099999999999966}, {'motif': 'AGGCGAAGTG', 'score': 42.299999999999955}, {'motif': 'AGGCGAACAG', 'score': 42.49999999999996}, {'motif': 'GGAAAAAAAG', 'score': 42.499999999999964}, {'motif': 'AAGAGGAATG', 'score': 42.599999999999966}, {'motif': 'AAAGGCGAAA', 'score': 42.69999999999995}, {'motif': 'AAAGGCCAAG', 'score': 42.69999999999995}, {'motif': 'GAAAAGGAAG', 'score': 42.69999999999996}, {'motif': 'AGGCGATGAG', 'score': 42.799999999999955}, {'motif': 'AAGCAGAGGC', 'score': 42.799999999999955}, {'motif': 'AAAGGCAAAG', 'score': 42.899999999999956}, {'motif': 'AAAGGCGAGG', 'score': 43.09999999999995}, {'motif': 'AGCACAGGCG', 'score': 43.09999999999995}, {'motif': 'GCAAAAGCGA', 'score': 43.09999999999995}, {'motif': 'AAAGACGAAG', 'score': 43.399999999999956}, {'motif': 'AAGTCGAAGA', 'score': 43.49999999999995}, {'motif': 'AAAGGGGAAG', 'score': 43.69999999999997}, {'motif': 'GCAAAGGGGA', 'score': 44.099999999999966}, {'motif': 'AAGCAAAGGG', 'score': 44.099999999999966}, {'motif': 'AAGGCGAAGA', 'score': 47.29999999999999}, {'motif': 'AAGCAAAGGC', 'score': 47.49999999999999}, {'motif': 'AAAGGCGAAG', 'score': 47.49999999999999}, {'motif': 'AAAGGCGAAG', 'score': 47.49999999999999}, {'motif': 'AAAGGCGAAG', 'score': 47.49999999999999}, {'motif': 'AGCAAAGGCG', 'score': 47.79999999999999}, {'motif': 'AGCAAAGGCG', 'score': 47.79999999999999}, {'motif': 'GCAAAGGCGA', 'score': 47.99999999999999}, {'motif': 'GCAAAGGCGA', 'score': 47.99999999999999}, {'motif': 'AGGAAGCAAA', 'score': 48.199999999999996}]\n",
      "-------------------------\n",
      "[{'motif': 'GAAAGCGATA', 'score': 36.0}, {'motif': 'GAAAAAGGCA', 'score': 36.199999999999996}, {'motif': 'AGGCGCACAA', 'score': 36.5}, {'motif': 'AGGGAAGCTA', 'score': 36.600000000000016}, {'motif': 'AAGAAAAGCG', 'score': 36.799999999999976}, {'motif': 'AAAGATAGGG', 'score': 36.99999999999999}, {'motif': 'AAGGCGAAAG', 'score': 38.10000000000002}, {'motif': 'GGAAGGGAGA', 'score': 38.49999999999999}, {'motif': 'AAAGGCAAAA', 'score': 38.50000000000002}, {'motif': 'GAAGGGGACG', 'score': 38.599999999999994}, {'motif': 'GGACGAAGAG', 'score': 38.60000000000002}, {'motif': 'AGGAAAGCAG', 'score': 38.69999999999998}, {'motif': 'GAAGAATAAG', 'score': 38.699999999999996}, {'motif': 'AGGAGAGGAA', 'score': 38.699999999999996}, {'motif': 'GAAGGCGGTA', 'score': 38.79999999999999}, {'motif': 'GAAGAAGAGG', 'score': 38.8}, {'motif': 'AAAGGCTAGG', 'score': 38.80000000000001}, {'motif': 'GCAAAGGAGG', 'score': 38.89999999999999}, {'motif': 'AGCAAAGGAC', 'score': 39.0}, {'motif': 'GCAAAAACGA', 'score': 39.00000000000002}, {'motif': 'AAGTCAAAGA', 'score': 39.10000000000001}, {'motif': 'AGGTGAACAG', 'score': 39.29999999999999}, {'motif': 'GAAGGCGGAT', 'score': 39.39999999999999}, {'motif': 'AAATGGGAAG', 'score': 39.6}, {'motif': 'AAGGGGAAGC', 'score': 39.7}, {'motif': 'AAGCCGAAGG', 'score': 39.8}, {'motif': 'CAGGAAACAA', 'score': 40.29999999999999}, {'motif': 'AGGAAAGAAG', 'score': 41.599999999999966}, {'motif': 'AAAGGCGGAG', 'score': 42.69999999999995}, {'motif': 'AAAGGCGAAA', 'score': 42.69999999999995}, {'motif': 'AAAGGCGTAG', 'score': 42.69999999999995}, {'motif': 'AAAGGCGAAA', 'score': 42.69999999999995}, {'motif': 'GAAAAGGAAG', 'score': 42.69999999999996}, {'motif': 'AAGCATAGGC', 'score': 43.19999999999995}, {'motif': 'AAGTCGAAGA', 'score': 43.49999999999995}, {'motif': 'AAGCAAAGGT', 'score': 43.49999999999996}, {'motif': 'AGGAAGCTAA', 'score': 43.79999999999996}, {'motif': 'GCAAAGGGGA', 'score': 44.099999999999966}, {'motif': 'AAGCAAAGGG', 'score': 44.099999999999966}, {'motif': 'GGAAAGAAAG', 'score': 47.199999999999996}, {'motif': 'AAGGCGAAGA', 'score': 47.29999999999999}, {'motif': 'AAGCAAAGGC', 'score': 47.49999999999999}, {'motif': 'AAAGGCGAAG', 'score': 47.49999999999999}, {'motif': 'AAAGGCGAAG', 'score': 47.49999999999999}, {'motif': 'AAAGGCGAAG', 'score': 47.49999999999999}, {'motif': 'AGCAAAGGCG', 'score': 47.79999999999999}, {'motif': 'AGCAAAGGCG', 'score': 47.79999999999999}, {'motif': 'GCAAAGGCGA', 'score': 47.99999999999999}, {'motif': 'GCAAAGGCGA', 'score': 47.99999999999999}, {'motif': 'AGGAAGCAAA', 'score': 48.199999999999996}]\n",
      "-------------------------\n",
      "[{'motif': 'GAAGGCCGTA', 'score': 35.699999999999996}, {'motif': 'GAAGAACCAG', 'score': 35.699999999999996}, {'motif': 'AAAGGCGGCA', 'score': 35.7}, {'motif': 'AGGAGAGGAT', 'score': 35.8}, {'motif': 'AAGGGGAAAC', 'score': 35.89999999999997}, {'motif': 'AGGTGATAGG', 'score': 35.99999999999999}, {'motif': 'GAAAAGTACG', 'score': 36.0}, {'motif': 'AGCAAGATAG', 'score': 36.0}, {'motif': 'AAGGCGGCCA', 'score': 36.099999999999994}, {'motif': 'AAAGGCTTGG', 'score': 36.199999999999996}, {'motif': 'AAAGCGAAAG', 'score': 36.39999999999997}, {'motif': 'GAAAAGAAGA', 'score': 36.399999999999984}, {'motif': 'AGGCGCACAA', 'score': 36.5}, {'motif': 'AAAAAAAGCG', 'score': 36.699999999999996}, {'motif': 'AAGGCAGGAG', 'score': 37.899999999999984}, {'motif': 'AAGCAGGAGG', 'score': 38.19999999999999}, {'motif': 'AAATGAAGGA', 'score': 38.29999999999999}, {'motif': 'AGGTACGAAA', 'score': 38.29999999999999}, {'motif': 'AAAGGCGGCG', 'score': 38.300000000000026}, {'motif': 'AAAGGCGGCG', 'score': 38.300000000000026}, {'motif': 'AAGGGCGCAG', 'score': 38.60000000000002}, {'motif': 'GGACGAAGAG', 'score': 38.60000000000002}, {'motif': 'AAGGGCTAAG', 'score': 38.60000000000002}, {'motif': 'GAAGGCGAAC', 'score': 38.60000000000002}, {'motif': 'AGGCGCAGAA', 'score': 38.70000000000001}, {'motif': 'AAAGGCGGAT', 'score': 38.80000000000002}, {'motif': 'AGCCAAGGCA', 'score': 38.800000000000026}, {'motif': 'GCAAAGGAGG', 'score': 38.89999999999999}, {'motif': 'GGACGCAGAG', 'score': 39.19999999999999}, {'motif': 'GAAGGTGGTA', 'score': 39.39999999999999}, {'motif': 'GGAAGGAAGA', 'score': 41.19999999999997}, {'motif': 'AGGAAAGAAG', 'score': 41.599999999999966}, {'motif': 'GAAGGAGGCA', 'score': 41.79999999999996}, {'motif': 'AAAGGCCAAG', 'score': 42.69999999999995}, {'motif': 'GAAGAAGAAG', 'score': 42.69999999999996}, {'motif': 'AAATGCGAAG', 'score': 42.899999999999956}, {'motif': 'GCAAAGGCGT', 'score': 42.99999999999995}, {'motif': 'AAAGTCGAAG', 'score': 43.299999999999955}, {'motif': 'GCAAAGGGGA', 'score': 44.099999999999966}, {'motif': 'GGATAGAAAG', 'score': 45.399999999999956}, {'motif': 'AAGGCGAAGA', 'score': 47.29999999999999}, {'motif': 'AAGCAAAGGC', 'score': 47.49999999999999}, {'motif': 'AAAGGCGAAG', 'score': 47.49999999999999}, {'motif': 'AAAGGCGAAG', 'score': 47.49999999999999}, {'motif': 'AAAGGCGAAG', 'score': 47.49999999999999}, {'motif': 'AGCAAAGGCG', 'score': 47.79999999999999}, {'motif': 'AGCAAAGGCG', 'score': 47.79999999999999}, {'motif': 'GCAAAGGCGA', 'score': 47.99999999999999}, {'motif': 'GCAAAGGCGA', 'score': 47.99999999999999}, {'motif': 'AGGAAGCAAA', 'score': 48.199999999999996}]\n",
      "-------------------------\n",
      "[{'motif': 'AAACGCGGCG', 'score': 34.99999999999999}, {'motif': 'GCAATGTACG', 'score': 35.000000000000014}, {'motif': 'AAGCCAGGAG', 'score': 35.19999999999999}, {'motif': 'GAAATAAGCG', 'score': 35.3}, {'motif': 'AAGCGCCAAG', 'score': 35.3}, {'motif': 'AAGGCAGGCG', 'score': 35.399999999999984}, {'motif': 'AAAGGTGAGA', 'score': 35.4}, {'motif': 'GGACGCCGAG', 'score': 35.49999999999999}, {'motif': 'AAGGACTAAG', 'score': 35.5}, {'motif': 'GGATAAGGCG', 'score': 35.69999999999999}, {'motif': 'AAATGACGGA', 'score': 35.8}, {'motif': 'AAAGAGGCCA', 'score': 35.899999999999984}, {'motif': 'AGCCAAGCCA', 'score': 35.89999999999999}, {'motif': 'GAATGTAAGA', 'score': 36.09999999999999}, {'motif': 'AAAAAAGACG', 'score': 36.199999999999996}, {'motif': 'GAAGGAAGTG', 'score': 36.29999999999998}, {'motif': 'GAAGAAAGCG', 'score': 37.6}, {'motif': 'AAGGAGAAAG', 'score': 37.999999999999986}, {'motif': 'GAAGGCGGGA', 'score': 38.099999999999994}, {'motif': 'GAAGTAGGCA', 'score': 38.19999999999999}, {'motif': 'AGGAACGTAA', 'score': 38.399999999999984}, {'motif': 'AAAGGCGACA', 'score': 38.40000000000003}, {'motif': 'AGGAAAGAGC', 'score': 38.59999999999999}, {'motif': 'AAAGGGGGAA', 'score': 38.59999999999999}, {'motif': 'AAAGGCGCCG', 'score': 38.600000000000016}, {'motif': 'GAAGGCGAAT', 'score': 38.700000000000024}, {'motif': 'AAGGGCGAAT', 'score': 38.80000000000002}, {'motif': 'AGCCAAGGCA', 'score': 38.800000000000026}, {'motif': 'AGCCAAGGCA', 'score': 38.800000000000026}, {'motif': 'GAAGGGGAAC', 'score': 38.89999999999999}, {'motif': 'AGGCGGAGAA', 'score': 38.90000000000001}, {'motif': 'GAAGGTGGCA', 'score': 38.99999999999999}, {'motif': 'GGAAGGAAGC', 'score': 39.3}, {'motif': 'GAAAAGGGGA', 'score': 39.50000000000001}, {'motif': 'GCAAAGGGGT', 'score': 39.8}, {'motif': 'AGGAAAGAAG', 'score': 41.599999999999966}, {'motif': 'AAAGGCGGAG', 'score': 42.69999999999995}, {'motif': 'AGCAAAGTCG', 'score': 43.69999999999995}, {'motif': 'AGGTAGCAAA', 'score': 43.899999999999956}, {'motif': 'AAGGCGAAGA', 'score': 47.29999999999999}, {'motif': 'AAGCAAAGGC', 'score': 47.49999999999999}, {'motif': 'AAAGGCGAAG', 'score': 47.49999999999999}, {'motif': 'AAAGGCGAAG', 'score': 47.49999999999999}, {'motif': 'AAAGGCGAAG', 'score': 47.49999999999999}, {'motif': 'AAAGGCGAAG', 'score': 47.49999999999999}, {'motif': 'AGCAAAGGCG', 'score': 47.79999999999999}, {'motif': 'AGCAAAGGCG', 'score': 47.79999999999999}, {'motif': 'GCAAAGGCGA', 'score': 47.99999999999999}, {'motif': 'GCAAAGGCGA', 'score': 47.99999999999999}, {'motif': 'AGGAAGCAAA', 'score': 48.199999999999996}]\n",
      "-------------------------\n"
     ]
    },
    {
     "name": "stdout",
     "output_type": "stream",
     "text": [
      "[{'motif': 'AGGAGCGGAG', 'score': 34.99999999999999}, {'motif': 'GCAATATACG', 'score': 35.00000000000001}, {'motif': 'GCAATGTACG', 'score': 35.000000000000014}, {'motif': 'AAGTTAGGCA', 'score': 35.099999999999994}, {'motif': 'GAATTAGGCA', 'score': 35.29999999999999}, {'motif': 'AAGCGCCAAT', 'score': 35.39999999999999}, {'motif': 'AAAGGTGAGA', 'score': 35.4}, {'motif': 'AAAGGTGAGA', 'score': 35.4}, {'motif': 'GGACGCCGAG', 'score': 35.49999999999999}, {'motif': 'AGCAAACCCA', 'score': 35.599999999999994}, {'motif': 'GAAGAAACAG', 'score': 35.599999999999994}, {'motif': 'GAAGGTGCCA', 'score': 35.60000000000001}, {'motif': 'GGATAAGGCG', 'score': 35.69999999999999}, {'motif': 'GCAAAGGGCT', 'score': 35.79999999999997}, {'motif': 'AGGCGGTGAA', 'score': 35.79999999999999}, {'motif': 'AAATGACGGA', 'score': 35.8}, {'motif': 'AAAGAGGCCA', 'score': 35.899999999999984}, {'motif': 'AAGGTCTAAG', 'score': 35.9}, {'motif': 'GCAAAGGGAG', 'score': 36.099999999999966}, {'motif': 'AAGCAAAACG', 'score': 36.19999999999997}, {'motif': 'AAAGGCAAGC', 'score': 36.2}, {'motif': 'AAGAGCGAAT', 'score': 36.3}, {'motif': 'GAAGTAGGCG', 'score': 36.300000000000004}, {'motif': 'AGCAAGGGGT', 'score': 36.39999999999997}, {'motif': 'AAGGAGTAAG', 'score': 38.09999999999999}, {'motif': 'AAGCAAGAGC', 'score': 38.300000000000026}, {'motif': 'GAAGGCGAAT', 'score': 38.700000000000024}, {'motif': 'AAAGGCGATA', 'score': 38.90000000000002}, {'motif': 'GGACGCCAAG', 'score': 39.099999999999994}, {'motif': 'AAAGAAGAAG', 'score': 39.099999999999994}, {'motif': 'GGAAGCGTAG', 'score': 39.199999999999996}, {'motif': 'GGAAGGAAGC', 'score': 39.3}, {'motif': 'GGAAGGAGGG', 'score': 41.499999999999964}, {'motif': 'GAAGAAGGAG', 'score': 41.79999999999997}, {'motif': 'GAAGGGGAAG', 'score': 42.79999999999996}, {'motif': 'AGGCAAAGGC', 'score': 42.899999999999956}, {'motif': 'AGCCAAGGCG', 'score': 42.99999999999995}, {'motif': 'AAGCACAGGC', 'score': 42.99999999999995}, {'motif': 'AAGCAATGGC', 'score': 43.39999999999995}, {'motif': 'GCAAAGGGGA', 'score': 44.099999999999966}, {'motif': 'AAGCAAAGGC', 'score': 47.49999999999999}, {'motif': 'AAAGGCGAAG', 'score': 47.49999999999999}, {'motif': 'AAAGGCGAAG', 'score': 47.49999999999999}, {'motif': 'AAAGGCGAAG', 'score': 47.49999999999999}, {'motif': 'AAAGGCGAAG', 'score': 47.49999999999999}, {'motif': 'AGCAAAGGCG', 'score': 47.79999999999999}, {'motif': 'AGCAAAGGCG', 'score': 47.79999999999999}, {'motif': 'GCAAAGGCGA', 'score': 47.99999999999999}, {'motif': 'GCAAAGGCGA', 'score': 47.99999999999999}, {'motif': 'AGGAAGCAAA', 'score': 48.199999999999996}]\n",
      "-------------------------\n",
      "[{'motif': 'ATAGAAGGCG', 'score': 36.19999999999999}, {'motif': 'GCTAGGAAAC', 'score': 36.199999999999996}, {'motif': 'AGGTATGAAG', 'score': 36.199999999999996}, {'motif': 'GCAAAGAAGC', 'score': 36.2}, {'motif': 'AGGGAAGGTG', 'score': 36.400000000000006}, {'motif': 'CAGGCAGCAC', 'score': 36.49999999999998}, {'motif': 'ATAGTAAGCG', 'score': 36.5}, {'motif': 'AAAAGATAGT', 'score': 36.8}, {'motif': 'GGATGGAGAG', 'score': 36.9}, {'motif': 'GAAAGAGCGA', 'score': 36.900000000000006}, {'motif': 'TAGCAAGCTA', 'score': 37.6}, {'motif': 'CGAAAAGGAG', 'score': 38.000000000000014}, {'motif': 'AGCAGAGGCA', 'score': 38.300000000000026}, {'motif': 'GAGGTAGGAA', 'score': 38.399999999999984}, {'motif': 'AGCAAAAGCA', 'score': 38.40000000000003}, {'motif': 'GAAGGCGACG', 'score': 38.50000000000002}, {'motif': 'GGAGGGGAAG', 'score': 38.699999999999996}, {'motif': 'AAAGGCGTTG', 'score': 39.100000000000016}, {'motif': 'ATAGAAAGTA', 'score': 39.3}, {'motif': 'AAGAAAGGAA', 'score': 39.399999999999984}, {'motif': 'AAGAAAGGAA', 'score': 39.399999999999984}, {'motif': 'AGGGGGAAGA', 'score': 39.699999999999996}, {'motif': 'AAGAAAGTAA', 'score': 40.09999999999998}, {'motif': 'AAAGAAAGGC', 'score': 40.39999999999998}, {'motif': 'AAGAAGGTGG', 'score': 40.399999999999984}, {'motif': 'GGATGGAAAG', 'score': 40.69999999999999}, {'motif': 'GAAGGAGAAA', 'score': 41.599999999999966}, {'motif': 'GCGAATAGGA', 'score': 42.399999999999956}, {'motif': 'AGGCTAAGAG', 'score': 42.59999999999995}, {'motif': 'GAAGAGGAAA', 'score': 42.599999999999966}, {'motif': 'AAGAGGAATG', 'score': 42.599999999999966}, {'motif': 'AAAAGCGAAG', 'score': 42.799999999999955}, {'motif': 'GCAAAAGCGA', 'score': 43.09999999999995}, {'motif': 'GCAACGGCGA', 'score': 43.49999999999995}, {'motif': 'GGAAACAAAG', 'score': 43.59999999999996}, {'motif': 'AGGAAGGTGG', 'score': 43.89999999999996}, {'motif': 'CAGGAAGCAA', 'score': 44.49999999999997}, {'motif': 'GCGAAGAGGA', 'score': 46.19999999999999}, {'motif': 'GGAAAGAAAG', 'score': 47.199999999999996}, {'motif': 'GGAAAGAAAG', 'score': 47.199999999999996}, {'motif': 'AAGGCGAAGA', 'score': 47.29999999999999}, {'motif': 'AAGCAAAGGC', 'score': 47.49999999999999}, {'motif': 'AAAGGCGAAG', 'score': 47.49999999999999}, {'motif': 'AAAGGCGAAG', 'score': 47.49999999999999}, {'motif': 'AAAGGCGAAG', 'score': 47.49999999999999}, {'motif': 'AGCAAAGGCG', 'score': 47.79999999999999}, {'motif': 'AGCAAAGGCG', 'score': 47.79999999999999}, {'motif': 'GCAAAGGCGA', 'score': 47.99999999999999}, {'motif': 'GCAAAGGCGA', 'score': 47.99999999999999}, {'motif': 'AGGAAGCAAA', 'score': 48.199999999999996}]\n",
      "-------------------------\n",
      "[{'motif': 'AGCAACAGAG', 'score': 35.599999999999994}, {'motif': 'AGCAGATGCA', 'score': 35.6}, {'motif': 'AGGCTAACAC', 'score': 35.699999999999996}, {'motif': 'AGCTAAAGCA', 'score': 35.699999999999996}, {'motif': 'GGATGTAGAG', 'score': 35.7}, {'motif': 'AAGAAGGCGA', 'score': 35.799999999999976}, {'motif': 'AGCGAAAGGG', 'score': 35.89999999999997}, {'motif': 'AAAGGTGTTG', 'score': 35.9}, {'motif': 'GAAACAGCGA', 'score': 35.9}, {'motif': 'GCAAACAAGG', 'score': 35.99999999999999}, {'motif': 'AAAGAGACAG', 'score': 36.2}, {'motif': 'GCGAAGGTGG', 'score': 36.20000000000001}, {'motif': 'AGGCTAGGAA', 'score': 36.300000000000004}, {'motif': 'AAAAGATAGG', 'score': 36.300000000000004}, {'motif': 'AGGGAAGCGA', 'score': 36.300000000000004}, {'motif': 'CAGGAAACAG', 'score': 36.499999999999986}, {'motif': 'AAGAAGGTCA', 'score': 36.49999999999999}, {'motif': 'AAGAAGGTGA', 'score': 36.900000000000006}, {'motif': 'AAGAAGGTCG', 'score': 37.099999999999994}, {'motif': 'GGATGAAAGC', 'score': 37.999999999999986}, {'motif': 'AGGAAAAAAC', 'score': 38.19999999999999}, {'motif': 'GCAAAAGCGG', 'score': 38.600000000000016}, {'motif': 'GCAAAAGTGA', 'score': 38.8}, {'motif': 'AAGAAGAAAG', 'score': 38.8}, {'motif': 'GGAAAGTAGG', 'score': 38.89999999999999}, {'motif': 'GCGAATGGGA', 'score': 38.89999999999999}, {'motif': 'AGCAAAGGAA', 'score': 39.199999999999996}, {'motif': 'GGAATAGGAA', 'score': 39.7}, {'motif': 'AGGAAGGTAG', 'score': 39.999999999999986}, {'motif': 'CAGGAAGCCA', 'score': 40.09999999999999}, {'motif': 'GGAAAAAAAG', 'score': 42.499999999999964}, {'motif': 'AGGCAAAGAG', 'score': 42.59999999999995}, {'motif': 'GCGAAGCGGA', 'score': 42.69999999999995}, {'motif': 'AGCAAAGGCC', 'score': 42.99999999999995}, {'motif': 'GGAAAGATAG', 'score': 43.099999999999966}, {'motif': 'GCAACGGCGA', 'score': 43.49999999999995}, {'motif': 'GGAGAGAAAG', 'score': 43.99999999999996}, {'motif': 'AAGGCGAAGA', 'score': 47.29999999999999}, {'motif': 'AAGCAAAGGC', 'score': 47.49999999999999}, {'motif': 'AAAGGCGAAG', 'score': 47.49999999999999}, {'motif': 'AAAGGCGAAG', 'score': 47.49999999999999}, {'motif': 'AAAGGCGAAG', 'score': 47.49999999999999}, {'motif': 'AAGCAAAGGC', 'score': 47.49999999999999}, {'motif': 'AGCAAAGGCG', 'score': 47.79999999999999}, {'motif': 'AGCAAAGGCG', 'score': 47.79999999999999}, {'motif': 'AGCAAAGGCG', 'score': 47.79999999999999}, {'motif': 'GCAAAGGCGA', 'score': 47.99999999999999}, {'motif': 'GCAAAGGCGA', 'score': 47.99999999999999}, {'motif': 'GCAAAGGCGA', 'score': 47.99999999999999}, {'motif': 'AGGAAGCAAA', 'score': 48.199999999999996}]\n",
      "-------------------------\n",
      "[{'motif': 'AGGGAAACGA', 'score': 35.39999999999999}, {'motif': 'AAGAAGGCTA', 'score': 35.4}, {'motif': 'AAAGTGACAG', 'score': 35.4}, {'motif': 'AAAAGTTAAG', 'score': 35.49999999999999}, {'motif': 'AAGAAGGGGA', 'score': 35.69999999999999}, {'motif': 'AAGAAAAACG', 'score': 35.699999999999996}, {'motif': 'AGGCTAACAC', 'score': 35.699999999999996}, {'motif': 'GCAGGCGAAC', 'score': 35.8}, {'motif': 'AAAAAAGTCA', 'score': 35.8}, {'motif': 'AGCGAAAGGG', 'score': 35.89999999999997}, {'motif': 'AAAGGATAGG', 'score': 35.89999999999999}, {'motif': 'GCAAACAAGG', 'score': 35.99999999999999}, {'motif': 'GCAAAACTGA', 'score': 35.99999999999999}, {'motif': 'AAGCAGGTCA', 'score': 36.2}, {'motif': 'AAGCATAGAG', 'score': 36.29999999999997}, {'motif': 'CAGGAAGGAT', 'score': 38.09999999999999}, {'motif': 'GCGAAGATGG', 'score': 38.40000000000003}, {'motif': 'GGAAAAAAAT', 'score': 38.59999999999999}, {'motif': 'GCAAAAGCGG', 'score': 38.600000000000016}, {'motif': 'AAGAAAGCGG', 'score': 38.69999999999998}, {'motif': 'AAAGGAGAGG', 'score': 38.699999999999996}, {'motif': 'AGGCAAGGAG', 'score': 38.70000000000002}, {'motif': 'AAGACGGAGA', 'score': 39.000000000000014}, {'motif': 'AGGCGTATAG', 'score': 39.00000000000002}, {'motif': 'GCAAGGGTGA', 'score': 39.099999999999994}, {'motif': 'AAAGGTGAAT', 'score': 39.49999999999999}, {'motif': 'CAGGAAACAA', 'score': 40.29999999999999}, {'motif': 'GCGAAGGGGA', 'score': 42.79999999999996}, {'motif': 'GCAAAGGCGT', 'score': 42.99999999999995}, {'motif': 'AGCCAAGGCG', 'score': 42.99999999999995}, {'motif': 'GCAAAGGCGG', 'score': 42.99999999999995}, {'motif': 'GCAAAAGCGA', 'score': 43.09999999999995}, {'motif': 'GCAAAAGCGA', 'score': 43.09999999999995}, {'motif': 'GGAAAGATAG', 'score': 43.099999999999966}, {'motif': 'GCATAGGCGA', 'score': 43.299999999999955}, {'motif': 'AAGGTGAAGA', 'score': 43.39999999999996}, {'motif': 'AGGAAGGTGG', 'score': 43.89999999999996}, {'motif': 'GGAGAGAAAG', 'score': 43.99999999999996}, {'motif': 'GCGAAGAGGA', 'score': 46.19999999999999}, {'motif': 'AAAGGCGAAG', 'score': 47.49999999999999}, {'motif': 'AAAGGCGAAG', 'score': 47.49999999999999}, {'motif': 'AAGCAAAGGC', 'score': 47.49999999999999}, {'motif': 'AGCAAAGGCG', 'score': 47.79999999999999}, {'motif': 'AGCAAAGGCG', 'score': 47.79999999999999}, {'motif': 'AGCAAAGGCG', 'score': 47.79999999999999}, {'motif': 'GCAAAGGCGA', 'score': 47.99999999999999}, {'motif': 'GCAAAGGCGA', 'score': 47.99999999999999}, {'motif': 'GCAAAGGCGA', 'score': 47.99999999999999}, {'motif': 'AGGAAGCAAA', 'score': 48.199999999999996}, {'motif': 'AGGAAGCAAA', 'score': 48.199999999999996}]\n",
      "-------------------------\n"
     ]
    },
    {
     "name": "stdout",
     "output_type": "stream",
     "text": [
      "[{'motif': 'GCAAGTGTGA', 'score': 35.3}, {'motif': 'AAAAGTTAAG', 'score': 35.49999999999999}, {'motif': 'AAAAGTTAAG', 'score': 35.49999999999999}, {'motif': 'GCAAAAGGCG', 'score': 35.49999999999999}, {'motif': 'AAGTAGGTCA', 'score': 35.7}, {'motif': 'AAGAAGGCGA', 'score': 35.799999999999976}, {'motif': 'AAGAAGGCGA', 'score': 35.799999999999976}, {'motif': 'GCAAAGGAAT', 'score': 35.79999999999998}, {'motif': 'AGGAAGCCGT', 'score': 35.79999999999999}, {'motif': 'GCACAAAGGC', 'score': 35.899999999999984}, {'motif': 'AAGCATAGAG', 'score': 36.29999999999997}, {'motif': 'AAAGGGTAGG', 'score': 36.29999999999997}, {'motif': 'AAGACAGCGG', 'score': 36.3}, {'motif': 'AAGAAACCAA', 'score': 36.30000000000002}, {'motif': 'AGCAAGGCAG', 'score': 36.7}, {'motif': 'AAGGAGTAAG', 'score': 38.09999999999999}, {'motif': 'AAATGCGAAA', 'score': 38.200000000000024}, {'motif': 'GCAAAAGCGT', 'score': 38.50000000000002}, {'motif': 'GCAAAGGCTT', 'score': 38.60000000000002}, {'motif': 'AAAGGAGAGG', 'score': 38.699999999999996}, {'motif': 'CAGGAAGGCG', 'score': 38.699999999999996}, {'motif': 'GCAAAGGAGC', 'score': 38.9}, {'motif': 'AGCAAAGGAT', 'score': 39.099999999999994}, {'motif': 'AAGCAAACGT', 'score': 39.099999999999994}, {'motif': 'GCATAGGTGA', 'score': 39.199999999999996}, {'motif': 'GGAGATAAAG', 'score': 39.3}, {'motif': 'AGGAAGCGAG', 'score': 39.39999999999999}, {'motif': 'GCATAGTCGA', 'score': 39.40000000000001}, {'motif': 'GCAAATGGGA', 'score': 39.50000000000001}, {'motif': 'GCAACGGGGA', 'score': 39.800000000000004}, {'motif': 'CAGGAAACAA', 'score': 40.29999999999999}, {'motif': 'AAGGAAGGAG', 'score': 41.499999999999964}, {'motif': 'GCGAAGATGA', 'score': 42.19999999999996}, {'motif': 'AGGAAGGCGG', 'score': 42.69999999999996}, {'motif': 'AGCCAAGGCG', 'score': 42.99999999999995}, {'motif': 'AGCACAGGCG', 'score': 43.09999999999995}, {'motif': 'AGGAAGCAAC', 'score': 43.59999999999996}, {'motif': 'AAAGGCGAAG', 'score': 47.49999999999999}, {'motif': 'AAGCAAAGGC', 'score': 47.49999999999999}, {'motif': 'AGCAAAGGCG', 'score': 47.79999999999999}, {'motif': 'AGCAAAGGCG', 'score': 47.79999999999999}, {'motif': 'AGCAAAGGCG', 'score': 47.79999999999999}, {'motif': 'AGCAAAGGCG', 'score': 47.79999999999999}, {'motif': 'GCAAAGGCGA', 'score': 47.99999999999999}, {'motif': 'GCAAAGGCGA', 'score': 47.99999999999999}, {'motif': 'GCAAAGGCGA', 'score': 47.99999999999999}, {'motif': 'AGGAAGCAAA', 'score': 48.199999999999996}, {'motif': 'AGGAAGCAAA', 'score': 48.199999999999996}, {'motif': 'AGGAAGCAAA', 'score': 48.199999999999996}, {'motif': 'AGGAAGCAAA', 'score': 48.199999999999996}]\n",
      "-------------------------\n",
      "[{'motif': 'AAGCATAAAA', 'score': 35.09999999999999}, {'motif': 'AAATTCGAAA', 'score': 35.3}, {'motif': 'GCAAAGTAAT', 'score': 35.3}, {'motif': 'AAATTCGAAA', 'score': 35.3}, {'motif': 'AAGCAGCCAA', 'score': 35.39999999999998}, {'motif': 'AAAGGTAAAT', 'score': 35.399999999999984}, {'motif': 'AAAAGTGAGG', 'score': 35.39999999999999}, {'motif': 'CAGGAGGTGA', 'score': 35.49999999999999}, {'motif': 'GCGAAGGGCG', 'score': 35.5}, {'motif': 'GCACATGGGA', 'score': 35.69999999999997}, {'motif': 'AAGAAAACGT', 'score': 35.69999999999999}, {'motif': 'AAGGAGGCGG', 'score': 35.699999999999996}, {'motif': 'GCAAAGGAAT', 'score': 35.79999999999998}, {'motif': 'AGCAAGAAGA', 'score': 36.099999999999994}, {'motif': 'AGCAAGAAGA', 'score': 36.099999999999994}, {'motif': 'AAGACAGCGG', 'score': 36.3}, {'motif': 'AAGGAGTAAC', 'score': 38.09999999999999}, {'motif': 'AGGAAAGGAT', 'score': 38.19999999999999}, {'motif': 'AGGTACGAAA', 'score': 38.29999999999999}, {'motif': 'GCAAAAGCGT', 'score': 38.50000000000002}, {'motif': 'GCAAAAGCGC', 'score': 38.50000000000003}, {'motif': 'GCAAATGCGG', 'score': 38.70000000000002}, {'motif': 'AAAAGGCAAA', 'score': 38.80000000000002}, {'motif': 'GCAGAGGTGA', 'score': 38.99999999999999}, {'motif': 'AAGAAAAGGA', 'score': 38.99999999999999}, {'motif': 'GGAGAAGGGG', 'score': 39.19999999999999}, {'motif': 'AGGAAGCCAC', 'score': 39.29999999999999}, {'motif': 'GCAACGGGGA', 'score': 39.800000000000004}, {'motif': 'AGCCAGCAAA', 'score': 39.99999999999999}, {'motif': 'CAGGAAACAA', 'score': 40.29999999999999}, {'motif': 'CAGGAAACAA', 'score': 40.29999999999999}, {'motif': 'AAGGAAGGAG', 'score': 41.499999999999964}, {'motif': 'AGGAAGGCGG', 'score': 42.69999999999996}, {'motif': 'GCAAAAGCGA', 'score': 43.09999999999995}, {'motif': 'GCAAAGGCGC', 'score': 43.09999999999995}, {'motif': 'GCATAGGCGA', 'score': 43.299999999999955}, {'motif': 'AGGAAGCAAG', 'score': 43.39999999999996}, {'motif': 'AAAGGGGAAG', 'score': 43.69999999999997}, {'motif': 'AGGAATCAAA', 'score': 43.99999999999996}, {'motif': 'AGCAAAGGCG', 'score': 47.79999999999999}, {'motif': 'AGCAAAGGCG', 'score': 47.79999999999999}, {'motif': 'AGCAAAGGCG', 'score': 47.79999999999999}, {'motif': 'AGCAAAGGCG', 'score': 47.79999999999999}, {'motif': 'GCAAAGGCGA', 'score': 47.99999999999999}, {'motif': 'GCAAAGGCGA', 'score': 47.99999999999999}, {'motif': 'GCAAAGGCGA', 'score': 47.99999999999999}, {'motif': 'AGGAAGCAAA', 'score': 48.199999999999996}, {'motif': 'AGGAAGCAAA', 'score': 48.199999999999996}, {'motif': 'AGGAAGCAAA', 'score': 48.199999999999996}, {'motif': 'AGGAAGCAAA', 'score': 48.199999999999996}]\n",
      "-------------------------\n"
     ]
    }
   ],
   "source": [
    "chars = ['A','C','G','T']\n",
    "scoreTable = []\n",
    "\n",
    "count = 0\n",
    "finalTable = []\n",
    "for i in randomizedmotifsearch(sequences):\n",
    "    Pi = i\n",
    "    score = TotalFitnessScore(sequences, Pi)    \n",
    "    scoreTable.append({\"motif\":Pi,\"score\":score})\n",
    "        \n",
    "for i in range(2):\n",
    "    scoreTable = sorted(scoreTable, key=lambda x: x['score'])\n",
    "    scoreTable = scoreTable[-50:]\n",
    "    finalTable.append(GeneticAlgorithm(scoreTable, count)[-1])"
   ]
  },
  {
   "cell_type": "code",
   "execution_count": 599,
   "id": "57cd9c39",
   "metadata": {},
   "outputs": [
    {
     "name": "stdout",
     "output_type": "stream",
     "text": [
      "[{'motif': 'AGGAAGCAAA', 'score': 48.199999999999996}, {'motif': 'AGGAAGCAAA', 'score': 48.199999999999996}]\n"
     ]
    }
   ],
   "source": [
    "print(finalTable)"
   ]
  },
  {
   "cell_type": "code",
   "execution_count": 600,
   "id": "083f1e62",
   "metadata": {},
   "outputs": [
    {
     "name": "stdout",
     "output_type": "stream",
     "text": [
      "Motif is :  AGGAAGCAAA\n"
     ]
    }
   ],
   "source": [
    "finalTable = sorted(finalTable, key=lambda x: x['score'])\n",
    "print(\"Motif is : \",  finalTable[-1]['motif'])"
   ]
  },
  {
   "cell_type": "markdown",
   "id": "c8e05bed",
   "metadata": {},
   "source": [
    "### RUNNING ON sequences2.txt"
   ]
  },
  {
   "cell_type": "code",
   "execution_count": 31,
   "id": "c8ee2109",
   "metadata": {},
   "outputs": [],
   "source": [
    "file = open(\"sequences2.txt\")\n",
    "sequences = file.readlines()\n",
    "for n,i in enumerate(sequences):\n",
    "    sequences[n] = i.strip()\n",
    "sequences = sequences[:-1]"
   ]
  },
  {
   "cell_type": "code",
   "execution_count": 32,
   "id": "a4924c2a",
   "metadata": {},
   "outputs": [
    {
     "name": "stdout",
     "output_type": "stream",
     "text": [
      "['cgttactccaacggcaagaagcggaaatagacgatccgggacttgactaaaatgcgtatggttgtgtaatgggagtaattcgctacggtgagaccaagctgactaccgcaaaccatggggccatgtatggtcgaagtgggagtcattgccgatgtattttgctggtagattcccgtgagagcaccccgtacccgaacggttggtcgatcacatcgtggaccaaggcgaatcggtcaatgcgtgtattgccagctttaattgatgaagcggaagagcctcccaaactggtgccattgtacctactaagtgaggtgtggataggatggacgggtgcctgttgagggggggaaatgtgctccgtatcggctgtgacgcagggatccccgttaccggcagcctcctgcatgactagactttggctcaagtcatgaggttggccgctttgcacataccttactcaactagagatcgcataccacagaacaaagataatatatgaa', 'tgttgcgtggtaggctgtgtaccttcgaactgcgctggacgctgccgataagttcttgctgagacaccaaaatcaaatggcctcccaactcgatcgtatcgggatgagctgtattcaggcactgactcgaaggcactactgaattaataccgttagcgcgtatgtcggaccgacatatagtaagataaggcactcataccgatcgctggccatagtgacatttagtccgtgccaattacttattagggtcctgagggttagagcgcatccctcctagatttctcggtctctatctaagttaacgggtgcggagctctattgggctaccttataaaagaagttttcacttaagcccatgtgtggccgtagtcgtgtaggagcaaactcgcatgggtcatgcgtcagactggggtgcgcagttccgggagttagaaaagaataaccatcatacattacttcgttgggatgtcgttcgttcgatatcgggccattacccattc', 'agtgtttcggtggtcattcttagctcgttgctgggtccggtccacgaccatgtcccattactctaatcggaattccaccgtcatagccattgcatcggtaaccgtgtaggagcagtgctggggtactttggtgtttggggttgatgtgttagcgatccaggcctagttccaatccaaggttgaaatgttgcctcattttttctggttatccaagtatgggcagtaccaaatcatcaggcccaagtctggaaggaatcaagtacacttttaagtgcatgaaggagagtgtttgagaccggagacgctaaattggggcgcctccctcctgcgctcccggatggcttgaatgccgtaaagtcagtgccaaaagtgctgagactccgtcgcggtcggctcgtaagccaatgtaatttggattactaatagccgctgagcgtttgctaacgatgtagagaaatgatttatctattctataattaaaaggagtagtcatccggccc', 'gtgtagcatatttctgttggagacccattgtgataactccttacagagtaaatatgacacaacattggatcgccagctggcggcctctcatactgtctgacccatccgaagaatgcaatagccccccaagaggcctttacataatcatctacagtcaccattaatcatgattaagattcgagattacgtgttcaagctcatgattctccattaatgtcgactaacgtacgccgctacagtgtgtctgtatacgcatgtgaggtacgaggtctcacgtcaaagcacactctaactccgactagtgggttgacagtgacgcattgaccctgttactcgccgagcggtgaccctcaagacaacagcaagagaaagcggaatgcgagattggatgcgtccggagacgcatccagtctaattatcaggcttagacagacattaacatttaggcgcgcagccgggaaggaataaggtggcgacgtaacttcagagcgccttctcgg', 'gggtttgacttaaaacttcattcatccttgagggaaggtttcatctatcgcgaatgggggccaatattataaacaacggggcagacatcttcggcaatgcacttatgtgccactaccacatacaccaaaaacaaagatacggatggctagcgaactgcgtccattaatcgagattcatcagccgattgggcgtcatacaccatcgttgttttgaagttgcctactcgttggactcgttcatcgtaagcttgcggataccactccgaactagagatacgtattggcccaagatcttagcgatctctgtttctgctaccccacgtaccctcgtcgaagtcacccatagcaagaacgatagcacccggggcgccagtcccataatagattatccacacgcttcctgagtctcgcacaaatctggacacttccatggcaattgcaccatagacctccgggaacgtcgttcgcgttaccccaattacgcttccagacatgacata']\n",
      "9\n"
     ]
    }
   ],
   "source": [
    "print(sequences[:5])\n",
    "print(len(sequences))"
   ]
  },
  {
   "cell_type": "code",
   "execution_count": 19,
   "id": "6489ef86",
   "metadata": {},
   "outputs": [
    {
     "name": "stdout",
     "output_type": "stream",
     "text": [
      "[{'motif': 'gctgctggAt', 'score': 5.8999999999999995}, {'motif': 'gttcgttAct', 'score': 5.8999999999999995}, {'motif': 'aactAtggga', 'score': 5.9}, {'motif': 'tgtaccttAt', 'score': 5.999999999999999}, {'motif': 'aactcgggGc', 'score': 5.999999999999999}, {'motif': 'tcgtaCgcac', 'score': 5.999999999999999}, {'motif': 'gatccaggAc', 'score': 5.999999999999999}, {'motif': 'atcaGactcg', 'score': 6.0}, {'motif': 'ggtcgaagGa', 'score': 6.0}, {'motif': 'ggtAattcgg', 'score': 6.0}, {'motif': 'gataTgaaag', 'score': 6.0}, {'motif': 'atcaCactcg', 'score': 6.0}, {'motif': 'tgtaccttcA', 'score': 6.099999999999999}, {'motif': 'atacGgatcg', 'score': 6.099999999999999}, {'motif': 'gatccatgcA', 'score': 6.1}, {'motif': 'agggaagCtg', 'score': 6.1}, {'motif': 'ttgctGgctg', 'score': 6.1}, {'motif': 'tgaaGtaata', 'score': 6.1}, {'motif': 'gagaTtacgt', 'score': 6.1}, {'motif': 'accgtcatAg', 'score': 6.1}, {'motif': 'ggttaTgcac', 'score': 6.1}, {'motif': 'acgccGtcta', 'score': 6.1}, {'motif': 'cttAttaatt', 'score': 6.1}, {'motif': 'tttctcggtA', 'score': 6.1000000000000005}, {'motif': 'agggaaTgtt', 'score': 6.1000000000000005}, {'motif': 'cgtcctTgct', 'score': 6.1000000000000005}, {'motif': 'ataAcgatcg', 'score': 6.199999999999998}, {'motif': 'ataGcgatct', 'score': 6.199999999999999}, {'motif': 'accgtGatag', 'score': 6.199999999999999}, {'motif': 'cgtaagCgcg', 'score': 6.2}, {'motif': 'ttggcAgctg', 'score': 6.2}, {'motif': 'aaaTatcgga', 'score': 6.2}, {'motif': 'aatccAatac', 'score': 6.299999999999999}, {'motif': 'tccatTaatg', 'score': 6.299999999999999}, {'motif': 'cgtcctTgcc', 'score': 6.3}, {'motif': 'gagTtgcggg', 'score': 6.3}, {'motif': 'gcctCtgctt', 'score': 6.3}, {'motif': 'tcctcCtcag', 'score': 6.300000000000001}, {'motif': 'aagtCcttgc', 'score': 6.4}, {'motif': 'ggtCgaagtg', 'score': 6.6}, {'motif': 'aatccaatac', 'score': 6.899999999999999}, {'motif': 'ggtcgaagtg', 'score': 6.8999999999999995}, {'motif': 'gctcgttgct', 'score': 6.8999999999999995}, {'motif': 'ttggatggga', 'score': 6.8999999999999995}, {'motif': 'cttcttaatt', 'score': 6.8999999999999995}, {'motif': 'taatcatcta', 'score': 6.9}, {'motif': 'tcgttcgaga', 'score': 6.9}, {'motif': 'tcgttatccg', 'score': 7.0}, {'motif': 'cattaatcga', 'score': 7.1}, {'motif': 'gatagcaccc', 'score': 7.1}]\n",
      "-------------------------\n",
      "[{'motif': 'ttgcTGgctg', 'score': 5.599999999999999}, {'motif': 'gatcAatgcA', 'score': 5.599999999999999}, {'motif': 'tttctTggtA', 'score': 5.599999999999999}, {'motif': 'atccTcggtA', 'score': 5.599999999999999}, {'motif': 'gatcAatgcA', 'score': 5.599999999999999}, {'motif': 'atcTGactcg', 'score': 5.6}, {'motif': 'ggtCAtaatt', 'score': 5.699999999999999}, {'motif': 'ggtATtaatt', 'score': 5.699999999999999}, {'motif': 'gttcgAtAct', 'score': 5.699999999999999}, {'motif': 'ttggcAgCtg', 'score': 5.699999999999999}, {'motif': 'ataCcgacta', 'score': 5.799999999999999}, {'motif': 'aagtCCttgc', 'score': 5.799999999999999}, {'motif': 'acgccGtcCc', 'score': 5.799999999999999}, {'motif': 'acgccGtctC', 'score': 5.8}, {'motif': 'tgaaGtaTta', 'score': 5.8}, {'motif': 'aactGactcg', 'score': 5.8}, {'motif': 'aatAcaggga', 'score': 5.8999999999999995}, {'motif': 'ttgAatatac', 'score': 5.8999999999999995}, {'motif': 'aagtCcAtgc', 'score': 5.8999999999999995}, {'motif': 'cttctaatTc', 'score': 5.8999999999999995}, {'motif': 'aagtCcttgC', 'score': 5.8999999999999995}, {'motif': 'aatcGAatac', 'score': 5.8999999999999995}, {'motif': 'aaaatCaatg', 'score': 5.999999999999999}, {'motif': 'tccGatcgga', 'score': 5.999999999999999}, {'motif': 'aatagTaccc', 'score': 5.999999999999999}, {'motif': 'accgtcGtgg', 'score': 6.0}, {'motif': 'cttcgaagAa', 'score': 6.0}, {'motif': 'cgtcctacCt', 'score': 6.1000000000000005}, {'motif': 'cttcttaatA', 'score': 6.199999999999999}, {'motif': 'gatccaTtac', 'score': 6.199999999999999}, {'motif': 'ggtcgaagAg', 'score': 6.2}, {'motif': 'cgtaagCgcg', 'score': 6.2}, {'motif': 'taatcAtcta', 'score': 6.299999999999999}, {'motif': 'gctcgttgcG', 'score': 6.3}, {'motif': 'tcgAtcgaga', 'score': 6.3}, {'motif': 'aatcctTatt', 'score': 6.300000000000001}, {'motif': 'aatcGaatac', 'score': 6.399999999999999}, {'motif': 'ttggatgGga', 'score': 6.3999999999999995}, {'motif': 'cttctaagtT', 'score': 6.4}, {'motif': 'cattaaTcga', 'score': 6.6}, {'motif': 'aatccaatac', 'score': 6.899999999999999}, {'motif': 'ggtcgaagtg', 'score': 6.8999999999999995}, {'motif': 'gctcgttgct', 'score': 6.8999999999999995}, {'motif': 'ttggatggga', 'score': 6.8999999999999995}, {'motif': 'cttcttaatt', 'score': 6.8999999999999995}, {'motif': 'taatcatcta', 'score': 6.9}, {'motif': 'tcgttcgaga', 'score': 6.9}, {'motif': 'tcgttatccg', 'score': 7.0}, {'motif': 'cattaatcga', 'score': 7.1}, {'motif': 'gatagcaccc', 'score': 7.1}]\n",
      "-------------------------\n",
      "[{'motif': 'ttggcAgCtT', 'score': 5.0}, {'motif': 'tccTGactcT', 'score': 5.0}, {'motif': 'tgaaGtCTta', 'score': 5.0}, {'motif': 'ataCcTaccT', 'score': 5.0}, {'motif': 'gttcgAtAAt', 'score': 5.1}, {'motif': 'aatcGAaTac', 'score': 5.1000000000000005}, {'motif': 'acgccGtCtC', 'score': 5.1000000000000005}, {'motif': 'ggtATCaatt', 'score': 5.199999999999999}, {'motif': 'acgcctaACt', 'score': 5.299999999999999}, {'motif': 'aatcGaaTaa', 'score': 5.3}, {'motif': 'acgccCGtgg', 'score': 5.3}, {'motif': 'acgccGtcGC', 'score': 5.3}, {'motif': 'aagtCcCtgC', 'score': 5.3999999999999995}, {'motif': 'gatccaTtaT', 'score': 5.3999999999999995}, {'motif': 'gatcAattaG', 'score': 5.3999999999999995}, {'motif': 'cttctaaGTc', 'score': 5.3999999999999995}, {'motif': 'ttgAattGct', 'score': 5.5}, {'motif': 'gttcgAatGc', 'score': 5.599999999999999}, {'motif': 'tgaaGAaatg', 'score': 5.599999999999999}, {'motif': 'gctTcAtcta', 'score': 5.599999999999999}, {'motif': 'tttcTtGatt', 'score': 5.6000000000000005}, {'motif': 'ggtCGtaatt', 'score': 5.699999999999999}, {'motif': 'gatcAAaatt', 'score': 5.699999999999999}, {'motif': 'atcGatcggG', 'score': 5.699999999999999}, {'motif': 'tccGatcgCg', 'score': 5.699999999999999}, {'motif': 'ggtcAaagga', 'score': 5.699999999999999}, {'motif': 'cattaaaAac', 'score': 5.700000000000001}, {'motif': 'cttcTaagtT', 'score': 5.799999999999999}, {'motif': 'acgccCtcCc', 'score': 5.799999999999999}, {'motif': 'aataCgacta', 'score': 5.799999999999999}, {'motif': 'aaaattaTta', 'score': 5.899999999999999}, {'motif': 'taatgTtgct', 'score': 5.899999999999999}, {'motif': 'ttgGatatac', 'score': 5.8999999999999995}, {'motif': 'aatGGaatac', 'score': 5.8999999999999995}, {'motif': 'ttggTtgGga', 'score': 5.9}, {'motif': 'tcgAtcgAga', 'score': 6.0}, {'motif': 'cttcgaagCa', 'score': 6.0}, {'motif': 'ggtcgaagAg', 'score': 6.2}, {'motif': 'ttggatgAgc', 'score': 6.4}, {'motif': 'cattaaCcga', 'score': 6.6}, {'motif': 'aatccaatac', 'score': 6.899999999999999}, {'motif': 'ggtcgaagtg', 'score': 6.8999999999999995}, {'motif': 'gctcgttgct', 'score': 6.8999999999999995}, {'motif': 'ttggatggga', 'score': 6.8999999999999995}, {'motif': 'cttcttaatt', 'score': 6.8999999999999995}, {'motif': 'taatcatcta', 'score': 6.9}, {'motif': 'tcgttcgaga', 'score': 6.9}, {'motif': 'tcgttatccg', 'score': 7.0}, {'motif': 'cattaatcga', 'score': 7.1}, {'motif': 'gatagcaccc', 'score': 7.1}]\n",
      "-------------------------\n",
      "[{'motif': 'ggtcAaAggT', 'score': 4.9}, {'motif': 'gctTCAtcta', 'score': 5.0}, {'motif': 'aatGTaagtT', 'score': 5.0}, {'motif': 'gctTTAtcta', 'score': 5.0}, {'motif': 'tttcTCGatt', 'score': 5.0}, {'motif': 'tgaaGATaga', 'score': 5.0}, {'motif': 'tcgACcgAtg', 'score': 5.0}, {'motif': 'tgaaGAaaGg', 'score': 5.0}, {'motif': 'aatGTaaTta', 'score': 5.0}, {'motif': 'tgaaGGaggG', 'score': 5.000000000000001}, {'motif': 'tgaAGAaatg', 'score': 5.1}, {'motif': 'atcGaAaGtg', 'score': 5.1}, {'motif': 'tcgAAcaccc', 'score': 5.2}, {'motif': 'aaaattacCC', 'score': 5.2}, {'motif': 'acgcGCtTta', 'score': 5.2}, {'motif': 'tcgAAcgAga', 'score': 5.2}, {'motif': 'ttggTtgGTa', 'score': 5.299999999999999}, {'motif': 'tccTGacTca', 'score': 5.299999999999999}, {'motif': 'aaaaCtaTta', 'score': 5.3}, {'motif': 'gatagcGAga', 'score': 5.4}, {'motif': 'aataGgttaG', 'score': 5.499999999999999}, {'motif': 'ggtctaaGTc', 'score': 5.5}, {'motif': 'aatccAtcGa', 'score': 5.599999999999999}, {'motif': 'ggtcAaAgtg', 'score': 5.599999999999999}, {'motif': 'tgaaGCaatg', 'score': 5.599999999999999}, {'motif': 'ctttcatctT', 'score': 5.599999999999999}, {'motif': 'cttcgaaAAg', 'score': 5.6}, {'motif': 'gatcACaatt', 'score': 5.699999999999999}, {'motif': 'gatcAaacta', 'score': 5.699999999999999}, {'motif': 'cttcTaagtG', 'score': 5.799999999999999}, {'motif': 'aaaaAtatac', 'score': 5.8}, {'motif': 'atcGatcatg', 'score': 5.899999999999999}, {'motif': 'ttggGtgggg', 'score': 5.999999999999999}, {'motif': 'cttccaataA', 'score': 6.0}, {'motif': 'ggtcgaagGa', 'score': 6.0}, {'motif': 'tcgttatcGa', 'score': 6.1}, {'motif': 'gctcgtAgct', 'score': 6.300000000000001}, {'motif': 'tcgttcTaga', 'score': 6.300000000000001}, {'motif': 'aatGcaatac', 'score': 6.499999999999998}, {'motif': 'tcgttatcAg', 'score': 6.5}, {'motif': 'aatccaatac', 'score': 6.899999999999999}, {'motif': 'ggtcgaagtg', 'score': 6.8999999999999995}, {'motif': 'gctcgttgct', 'score': 6.8999999999999995}, {'motif': 'ttggatggga', 'score': 6.8999999999999995}, {'motif': 'cttcttaatt', 'score': 6.8999999999999995}, {'motif': 'taatcatcta', 'score': 6.9}, {'motif': 'tcgttcgaga', 'score': 6.9}, {'motif': 'tcgttatccg', 'score': 7.0}, {'motif': 'cattaatcga', 'score': 7.1}, {'motif': 'gatagcaccc', 'score': 7.1}]\n",
      "-------------------------\n"
     ]
    },
    {
     "name": "stdout",
     "output_type": "stream",
     "text": [
      "[{'motif': 'aaaatTacCC', 'score': 4.800000000000001}, {'motif': 'ggtctaTGTc', 'score': 4.8999999999999995}, {'motif': 'ggtcAaAAtg', 'score': 4.8999999999999995}, {'motif': 'aaaTAtataC', 'score': 5.0}, {'motif': 'aatccATagA', 'score': 5.0}, {'motif': 'acgcACtTtc', 'score': 5.0}, {'motif': 'aatcTAtcGa', 'score': 5.0}, {'motif': 'aatCTaaTta', 'score': 5.0}, {'motif': 'cttcgAaAAg', 'score': 5.0}, {'motif': 'aaaaCcgAtG', 'score': 5.1}, {'motif': 'gatAACaatt', 'score': 5.1}, {'motif': 'tgaCGAaatg', 'score': 5.1}, {'motif': 'tgaaGCAatg', 'score': 5.1}, {'motif': 'tgaGaGcatg', 'score': 5.199999999999999}, {'motif': 'ggtcAaagGG', 'score': 5.199999999999999}, {'motif': 'tcgAAcgTga', 'score': 5.2}, {'motif': 'acgcCCtTta', 'score': 5.2}, {'motif': 'tccAGacTca', 'score': 5.299999999999999}, {'motif': 'aaaattaTCc', 'score': 5.3}, {'motif': 'tgaaGaGtac', 'score': 5.3}, {'motif': 'aatAGggaga', 'score': 5.3}, {'motif': 'atcaGCaatg', 'score': 5.499999999999999}, {'motif': 'gatcGCaatg', 'score': 5.499999999999999}, {'motif': 'tcgtAcTaga', 'score': 5.5}, {'motif': 'ggtcTaAgtg', 'score': 5.599999999999999}, {'motif': 'atcGatcatA', 'score': 5.599999999999999}, {'motif': 'tcgttCttaG', 'score': 5.599999999999999}, {'motif': 'gctcgAagGa', 'score': 5.6}, {'motif': 'tcgttcTtaC', 'score': 5.6}, {'motif': 'tcgttAtcAa', 'score': 5.699999999999999}, {'motif': 'aatGcaaaCa', 'score': 5.699999999999999}, {'motif': 'aatGAaatac', 'score': 5.8999999999999995}, {'motif': 'aatcccgagC', 'score': 5.9}, {'motif': 'ggtTgaaAtg', 'score': 5.9}, {'motif': 'gatAgcacca', 'score': 6.1000000000000005}, {'motif': 'ggtcgaagGg', 'score': 6.2}, {'motif': 'ggtcgTtgct', 'score': 6.3}, {'motif': 'taatcatcTa', 'score': 6.3999999999999995}, {'motif': 'cttcttGatt', 'score': 6.499999999999999}, {'motif': 'tcgttatcTg', 'score': 6.5}, {'motif': 'aatccaatac', 'score': 6.899999999999999}, {'motif': 'ggtcgaagtg', 'score': 6.8999999999999995}, {'motif': 'gctcgttgct', 'score': 6.8999999999999995}, {'motif': 'ttggatggga', 'score': 6.8999999999999995}, {'motif': 'cttcttaatt', 'score': 6.8999999999999995}, {'motif': 'taatcatcta', 'score': 6.9}, {'motif': 'tcgttcgaga', 'score': 6.9}, {'motif': 'tcgttatccg', 'score': 7.0}, {'motif': 'cattaatcga', 'score': 7.1}, {'motif': 'gatagcaccc', 'score': 7.1}]\n",
      "-------------------------\n",
      "[{'motif': 'tgtaccAttt', 'score': 5.8999999999999995}, {'motif': 'gcctaGgccg', 'score': 5.8999999999999995}, {'motif': 'ttgTtcatag', 'score': 5.8999999999999995}, {'motif': 'tagctcagaC', 'score': 5.8999999999999995}, {'motif': 'taatTatcgc', 'score': 5.8999999999999995}, {'motif': 'cttctCaatc', 'score': 5.8999999999999995}, {'motif': 'tggacgccGc', 'score': 5.999999999999999}, {'motif': 'aagtActtgg', 'score': 5.999999999999999}, {'motif': 'gataaCtccc', 'score': 5.999999999999999}, {'motif': 'gatccaggTc', 'score': 5.999999999999999}, {'motif': 'tgaaTtacgt', 'score': 5.999999999999999}, {'motif': 'acgatTcggc', 'score': 6.0}, {'motif': 'gctgtgaAgc', 'score': 6.099999999999999}, {'motif': 'catacaCatt', 'score': 6.099999999999999}, {'motif': 'gctgtgactT', 'score': 6.099999999999999}, {'motif': 'ataccgatcT', 'score': 6.1}, {'motif': 'accgtcatCg', 'score': 6.1}, {'motif': 'tcgtActtcg', 'score': 6.1}, {'motif': 'tagctcCttg', 'score': 6.1}, {'motif': 'aagaagcgAa', 'score': 6.1}, {'motif': 'aagaagcgTa', 'score': 6.1}, {'motif': 'ttgGtgggtt', 'score': 6.1}, {'motif': 'ccatCgtgtc', 'score': 6.1}, {'motif': 'taatggaTag', 'score': 6.1000000000000005}, {'motif': 'catacAcatt', 'score': 6.199999999999999}, {'motif': 'catacCcatt', 'score': 6.199999999999999}, {'motif': 'gatagcaAct', 'score': 6.199999999999999}, {'motif': 'cgtaaggttT', 'score': 6.199999999999999}, {'motif': 'gactggGtag', 'score': 6.199999999999999}, {'motif': 'aatccaacgC', 'score': 6.2}, {'motif': 'tggaAgctgc', 'score': 6.2}, {'motif': 'aaaAatcgga', 'score': 6.2}, {'motif': 'tcaaCttcgg', 'score': 6.200000000000001}, {'motif': 'tggacgctTc', 'score': 6.299999999999999}, {'motif': 'tccattTatg', 'score': 6.299999999999999}, {'motif': 'ttgGtgggtc', 'score': 6.3}, {'motif': 'tcgCtcgaga', 'score': 6.3}, {'motif': 'gataaCtcct', 'score': 6.4}, {'motif': 'aagaaAcgga', 'score': 6.499999999999999}, {'motif': 'gctcgttgAt', 'score': 6.5}, {'motif': 'aatccaatac', 'score': 6.899999999999999}, {'motif': 'ggtcgaagtg', 'score': 6.8999999999999995}, {'motif': 'gctcgttgct', 'score': 6.8999999999999995}, {'motif': 'ttggatggga', 'score': 6.8999999999999995}, {'motif': 'cttcttaatt', 'score': 6.8999999999999995}, {'motif': 'taatcatcta', 'score': 6.9}, {'motif': 'tcgttcgaga', 'score': 6.9}, {'motif': 'tcgttatccg', 'score': 7.0}, {'motif': 'cattaatcga', 'score': 7.1}, {'motif': 'gatagcaccc', 'score': 7.1}]\n",
      "-------------------------\n",
      "[{'motif': 'gccCaGgccg', 'score': 5.4}, {'motif': 'tggacgTcGc', 'score': 5.499999999999999}, {'motif': 'aagaagcTTa', 'score': 5.499999999999999}, {'motif': 'gataaCtTcc', 'score': 5.499999999999999}, {'motif': 'tcgCGcgaga', 'score': 5.499999999999999}, {'motif': 'cttAatcgGa', 'score': 5.499999999999999}, {'motif': 'accgtcaACt', 'score': 5.499999999999999}, {'motif': 'gatCgcaAct', 'score': 5.499999999999999}, {'motif': 'aagaaACatt', 'score': 5.499999999999999}, {'motif': 'tggacgAcGc', 'score': 5.499999999999999}, {'motif': 'cataAcAtgg', 'score': 5.5}, {'motif': 'tcgtAGttcg', 'score': 5.599999999999999}, {'motif': 'tggCcgccGc', 'score': 5.6}, {'motif': 'cttcGCaatc', 'score': 5.6}, {'motif': 'tccattTaTg', 'score': 5.699999999999999}, {'motif': 'gctgtggTga', 'score': 5.699999999999999}, {'motif': 'tggaAgCtgc', 'score': 5.7}, {'motif': 'catacCcgAa', 'score': 5.7}, {'motif': 'tggacgGtcg', 'score': 5.8}, {'motif': 'gataagcgGa', 'score': 5.8}, {'motif': 'aagaaAcAga', 'score': 5.8}, {'motif': 'taatggaAac', 'score': 5.8}, {'motif': 'ttgTtcatag', 'score': 5.8999999999999995}, {'motif': 'gctcgtaatG', 'score': 5.8999999999999995}, {'motif': 'aagaaAcggA', 'score': 5.8999999999999995}, {'motif': 'cttcGtaatg', 'score': 5.999999999999999}, {'motif': 'cgtaaTgttt', 'score': 6.0}, {'motif': 'taatggaTag', 'score': 6.1000000000000005}, {'motif': 'catacCcatt', 'score': 6.199999999999999}, {'motif': 'aaaGttaatt', 'score': 6.199999999999999}, {'motif': 'ccacgttCct', 'score': 6.2}, {'motif': 'ggtcgaagCg', 'score': 6.2}, {'motif': 'tggaGgctgc', 'score': 6.2}, {'motif': 'tggacgctAc', 'score': 6.299999999999999}, {'motif': 'taatcaActa', 'score': 6.3}, {'motif': 'tcgAtcgaga', 'score': 6.3}, {'motif': 'cttcGtaatt', 'score': 6.3}, {'motif': 'ttgGatggga', 'score': 6.3999999999999995}, {'motif': 'gctcgttgTt', 'score': 6.5}, {'motif': 'ggtGgaagtg', 'score': 6.6}, {'motif': 'aatccaatac', 'score': 6.899999999999999}, {'motif': 'ggtcgaagtg', 'score': 6.8999999999999995}, {'motif': 'gctcgttgct', 'score': 6.8999999999999995}, {'motif': 'ttggatggga', 'score': 6.8999999999999995}, {'motif': 'cttcttaatt', 'score': 6.8999999999999995}, {'motif': 'taatcatcta', 'score': 6.9}, {'motif': 'tcgttcgaga', 'score': 6.9}, {'motif': 'tcgttatccg', 'score': 7.0}, {'motif': 'cattaatcga', 'score': 7.1}, {'motif': 'gatagcaccc', 'score': 7.1}]\n",
      "-------------------------\n",
      "[{'motif': 'aagaaACatG', 'score': 5.1}, {'motif': 'cataACaTag', 'score': 5.1}, {'motif': 'tggaAACtgc', 'score': 5.1}, {'motif': 'cgtaaTgCtA', 'score': 5.1}, {'motif': 'tggTcgAcGc', 'score': 5.1000000000000005}, {'motif': 'aagaaCcTTa', 'score': 5.199999999999999}, {'motif': 'aagaaAGAga', 'score': 5.199999999999999}, {'motif': 'taatTcAtgg', 'score': 5.199999999999999}, {'motif': 'aagTaAcAga', 'score': 5.199999999999999}, {'motif': 'ccacgtTCtg', 'score': 5.299999999999999}, {'motif': 'aagCgcaAGt', 'score': 5.299999999999999}, {'motif': 'tggCCgccGc', 'score': 5.3}, {'motif': 'catacgTAGc', 'score': 5.3}, {'motif': 'cttcGtGgga', 'score': 5.399999999999999}, {'motif': 'gataggAcAc', 'score': 5.499999999999999}, {'motif': 'gctCgcaAct', 'score': 5.499999999999999}, {'motif': 'gatCgttgGt', 'score': 5.499999999999999}, {'motif': 'aaaGttaatG', 'score': 5.5}, {'motif': 'aagaaTCatg', 'score': 5.6}, {'motif': 'cttGGtaact', 'score': 5.6}, {'motif': 'ttgGaCggga', 'score': 5.6}, {'motif': 'tggaGcaccc', 'score': 5.699999999999999}, {'motif': 'catacCcTtt', 'score': 5.699999999999999}, {'motif': 'tcgAtcTaga', 'score': 5.699999999999999}, {'motif': 'taatggaAAa', 'score': 5.7}, {'motif': 'tggaGgctCc', 'score': 5.799999999999999}, {'motif': 'gctgtggAgc', 'score': 5.799999999999999}, {'motif': 'ggtGgaagGg', 'score': 5.8}, {'motif': 'ttggAtaatg', 'score': 5.899999999999999}, {'motif': 'ggtGgaaCtg', 'score': 5.9}, {'motif': 'cttAttaatt', 'score': 6.1}, {'motif': 'aagaaTcggt', 'score': 6.1000000000000005}, {'motif': 'catacAcatt', 'score': 6.199999999999999}, {'motif': 'cttcCtaatt', 'score': 6.3}, {'motif': 'gctcgttgTa', 'score': 6.399999999999999}, {'motif': 'ttgGatggga', 'score': 6.3999999999999995}, {'motif': 'taatcatcCa', 'score': 6.3999999999999995}, {'motif': 'taatcatcGa', 'score': 6.3999999999999995}, {'motif': 'gctGgttgct', 'score': 6.4}, {'motif': 'ttggatgGgt', 'score': 6.499999999999999}, {'motif': 'aatccaatac', 'score': 6.899999999999999}, {'motif': 'ggtcgaagtg', 'score': 6.8999999999999995}, {'motif': 'gctcgttgct', 'score': 6.8999999999999995}, {'motif': 'ttggatggga', 'score': 6.8999999999999995}, {'motif': 'cttcttaatt', 'score': 6.8999999999999995}, {'motif': 'taatcatcta', 'score': 6.9}, {'motif': 'tcgttcgaga', 'score': 6.9}, {'motif': 'tcgttatccg', 'score': 7.0}, {'motif': 'cattaatcga', 'score': 7.1}, {'motif': 'gatagcaccc', 'score': 7.1}]\n",
      "-------------------------\n"
     ]
    },
    {
     "name": "stdout",
     "output_type": "stream",
     "text": [
      "[{'motif': 'gatATcTaga', 'score': 5.0}, {'motif': 'gctCgcaAGt', 'score': 5.0}, {'motif': 'catacgTAtT', 'score': 5.1}, {'motif': 'taatGgaCtA', 'score': 5.1}, {'motif': 'gctCgCaAct', 'score': 5.1}, {'motif': 'cttAttaaGA', 'score': 5.1000000000000005}, {'motif': 'aagaaATAga', 'score': 5.199999999999999}, {'motif': 'ttgGACggga', 'score': 5.199999999999999}, {'motif': 'catacCcTCt', 'score': 5.2}, {'motif': 'ttggAtaaAg', 'score': 5.3999999999999995}, {'motif': 'gatcCtaatT', 'score': 5.3999999999999995}, {'motif': 'gctCgcGgGt', 'score': 5.3999999999999995}, {'motif': 'ttggAtTatc', 'score': 5.3999999999999995}, {'motif': 'ttggAtaatT', 'score': 5.3999999999999995}, {'motif': 'ttggAtaaAg', 'score': 5.3999999999999995}, {'motif': 'ttggAtaatG', 'score': 5.3999999999999995}, {'motif': 'gctgtggAAc', 'score': 5.499999999999999}, {'motif': 'ggtcgttTTa', 'score': 5.5}, {'motif': 'tggaTgctCg', 'score': 5.5}, {'motif': 'ggtTgaaCgg', 'score': 5.599999999999999}, {'motif': 'taatTcTttg', 'score': 5.6}, {'motif': 'cataAgctCc', 'score': 5.6}, {'motif': 'gatGgtaAct', 'score': 5.6}, {'motif': 'tggaGgctgC', 'score': 5.699999999999999}, {'motif': 'cttcCtaatT', 'score': 5.7}, {'motif': 'cttcCtaatC', 'score': 5.7}, {'motif': 'cttcCTaatt', 'score': 5.8}, {'motif': 'taaTcatcGa', 'score': 5.8}, {'motif': 'cttcCAaatt', 'score': 5.8}, {'motif': 'taatcatCTa', 'score': 5.8}, {'motif': 'aagGgaagGg', 'score': 5.800000000000001}, {'motif': 'tcgcAaagtg', 'score': 5.8999999999999995}, {'motif': 'taatcatcGC', 'score': 5.8999999999999995}, {'motif': 'gctcgaaCtg', 'score': 5.8999999999999995}, {'motif': 'gctcAttgTa', 'score': 5.9}, {'motif': 'ttggGtggga', 'score': 6.1}, {'motif': 'tggacAcatt', 'score': 6.2}, {'motif': 'tcgtCatccg', 'score': 6.3}, {'motif': 'taatcatctG', 'score': 6.3}, {'motif': 'cattaaAcga', 'score': 6.6}, {'motif': 'aatccaatac', 'score': 6.899999999999999}, {'motif': 'ggtcgaagtg', 'score': 6.8999999999999995}, {'motif': 'gctcgttgct', 'score': 6.8999999999999995}, {'motif': 'ttggatggga', 'score': 6.8999999999999995}, {'motif': 'cttcttaatt', 'score': 6.8999999999999995}, {'motif': 'taatcatcta', 'score': 6.9}, {'motif': 'tcgttcgaga', 'score': 6.9}, {'motif': 'tcgttatccg', 'score': 7.0}, {'motif': 'cattaatcga', 'score': 7.1}, {'motif': 'gatagcaccc', 'score': 7.1}]\n",
      "-------------------------\n",
      "[{'motif': 'taatGgaCtC', 'score': 5.1}, {'motif': 'cttcCAaTtt', 'score': 5.1000000000000005}, {'motif': 'catacgGAga', 'score': 5.199999999999999}, {'motif': 'ggtCcatctG', 'score': 5.199999999999999}, {'motif': 'catacCcCCt', 'score': 5.2}, {'motif': 'catacCcTCt', 'score': 5.2}, {'motif': 'tggaGgctCC', 'score': 5.2}, {'motif': 'taaAttaaGA', 'score': 5.299999999999999}, {'motif': 'ttggGtgTAg', 'score': 5.299999999999999}, {'motif': 'ttggAtaTtg', 'score': 5.3}, {'motif': 'tcgtCTtcga', 'score': 5.3999999999999995}, {'motif': 'ggtTgaAcga', 'score': 5.3999999999999995}, {'motif': 'taatCAaaGt', 'score': 5.3999999999999995}, {'motif': 'ttggAatcGa', 'score': 5.3999999999999995}, {'motif': 'cattataaAG', 'score': 5.3999999999999995}, {'motif': 'gctAgtaAct', 'score': 5.3999999999999995}, {'motif': 'taatcAtCTa', 'score': 5.3999999999999995}, {'motif': 'catCaatctT', 'score': 5.499999999999999}, {'motif': 'cattAaaCgg', 'score': 5.499999999999999}, {'motif': 'ggtTgaaAgg', 'score': 5.599999999999999}, {'motif': 'ttggACaaga', 'score': 5.599999999999999}, {'motif': 'gctCgcaatT', 'score': 5.6}, {'motif': 'cataAgctCc', 'score': 5.6}, {'motif': 'ttggAtAaac', 'score': 5.6}, {'motif': 'tggaGgctgG', 'score': 5.699999999999999}, {'motif': 'tcgtCTtccg', 'score': 5.8}, {'motif': 'aatAcaattG', 'score': 5.8}, {'motif': 'taatcatATa', 'score': 5.8}, {'motif': 'taacgaAgtg', 'score': 5.8999999999999995}, {'motif': 'gctcAttgAa', 'score': 5.9}, {'motif': 'aatccaaAac', 'score': 6.1}, {'motif': 'cattaaAcTa', 'score': 6.1}, {'motif': 'ttggatgCcg', 'score': 6.199999999999999}, {'motif': 'taatcatcAa', 'score': 6.3999999999999995}, {'motif': 'ttgAatggga', 'score': 6.3999999999999995}, {'motif': 'gataCcaccc', 'score': 6.3999999999999995}, {'motif': 'ggtcgaagtG', 'score': 6.4}, {'motif': 'gatGgcaccc', 'score': 6.499999999999999}, {'motif': 'cattaGtcga', 'score': 6.6}, {'motif': 'cattaGtcga', 'score': 6.6}, {'motif': 'aatccaatac', 'score': 6.899999999999999}, {'motif': 'ggtcgaagtg', 'score': 6.8999999999999995}, {'motif': 'gctcgttgct', 'score': 6.8999999999999995}, {'motif': 'ttggatggga', 'score': 6.8999999999999995}, {'motif': 'cttcttaatt', 'score': 6.8999999999999995}, {'motif': 'taatcatcta', 'score': 6.9}, {'motif': 'tcgttcgaga', 'score': 6.9}, {'motif': 'tcgttatccg', 'score': 7.0}, {'motif': 'cattaatcga', 'score': 7.1}, {'motif': 'gatagcaccc', 'score': 7.1}]\n",
      "-------------------------\n"
     ]
    }
   ],
   "source": [
    "chars = ['A','C','G','T']\n",
    "scoreTable = []\n",
    "\n",
    "count = 0\n",
    "finalTable = []\n",
    "for i in randomizedmotifsearch(sequences):\n",
    "    Pi = i\n",
    "    score = TotalFitnessScore(sequences, Pi)    \n",
    "    scoreTable.append({\"motif\":Pi,\"score\":score})\n",
    "        \n",
    "for i in range(2):\n",
    "    scoreTable = sorted(scoreTable, key=lambda x: x['score'])\n",
    "    scoreTable = scoreTable[-50:]\n",
    "    finalTable.append(GeneticAlgorithm(scoreTable, count)[-1])"
   ]
  },
  {
   "cell_type": "code",
   "execution_count": 20,
   "id": "2be4cd8d",
   "metadata": {},
   "outputs": [
    {
     "name": "stdout",
     "output_type": "stream",
     "text": [
      "[{'motif': 'gatagcaccc', 'score': 7.1}, {'motif': 'gatagcaccc', 'score': 7.1}]\n"
     ]
    }
   ],
   "source": [
    "print(finalTable)"
   ]
  },
  {
   "cell_type": "code",
   "execution_count": 21,
   "id": "ec46506a",
   "metadata": {},
   "outputs": [
    {
     "name": "stdout",
     "output_type": "stream",
     "text": [
      "Motif is :  gatagcaccc\n"
     ]
    }
   ],
   "source": [
    "finalTable = sorted(finalTable, key=lambda x: x['score'])\n",
    "print(\"Motif is : \",  finalTable[-1]['motif'])"
   ]
  }
 ],
 "metadata": {
  "kernelspec": {
   "display_name": "Python 3 (ipykernel)",
   "language": "python",
   "name": "python3"
  },
  "language_info": {
   "codemirror_mode": {
    "name": "ipython",
    "version": 3
   },
   "file_extension": ".py",
   "mimetype": "text/x-python",
   "name": "python",
   "nbconvert_exporter": "python",
   "pygments_lexer": "ipython3",
   "version": "3.10.4"
  }
 },
 "nbformat": 4,
 "nbformat_minor": 5
}
